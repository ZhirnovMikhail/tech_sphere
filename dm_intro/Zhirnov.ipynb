{
 "cells": [
  {
   "cell_type": "markdown",
   "metadata": {},
   "source": [
    "### Жирнов Михаил группа BD-11"
   ]
  },
  {
   "cell_type": "code",
   "execution_count": 1,
   "metadata": {},
   "outputs": [
    {
     "data": {
      "text/plain": [
       "<Figure size 1008x360 with 0 Axes>"
      ]
     },
     "metadata": {},
     "output_type": "display_data"
    }
   ],
   "source": [
    "import pandas as pd\n",
    "import matplotlib.pyplot as plt\n",
    "%matplotlib inline\n",
    "import numpy as np\n",
    "\n",
    "import random\n",
    "\n",
    "from scipy import stats\n",
    "\n",
    "fig = plt.figure(figsize= (14,5))"
   ]
  },
  {
   "cell_type": "code",
   "execution_count": 2,
   "metadata": {},
   "outputs": [
    {
     "data": {
      "text/html": [
       "<div>\n",
       "<style scoped>\n",
       "    .dataframe tbody tr th:only-of-type {\n",
       "        vertical-align: middle;\n",
       "    }\n",
       "\n",
       "    .dataframe tbody tr th {\n",
       "        vertical-align: top;\n",
       "    }\n",
       "\n",
       "    .dataframe thead th {\n",
       "        text-align: right;\n",
       "    }\n",
       "</style>\n",
       "<table border=\"1\" class=\"dataframe\">\n",
       "  <thead>\n",
       "    <tr style=\"text-align: right;\">\n",
       "      <th></th>\n",
       "      <th>Unnamed: 0</th>\n",
       "      <th>ID</th>\n",
       "      <th>Name</th>\n",
       "      <th>Age</th>\n",
       "      <th>Photo</th>\n",
       "      <th>Nationality</th>\n",
       "      <th>Flag</th>\n",
       "      <th>Overall</th>\n",
       "      <th>Potential</th>\n",
       "      <th>Club</th>\n",
       "      <th>...</th>\n",
       "      <th>Composure</th>\n",
       "      <th>Marking</th>\n",
       "      <th>StandingTackle</th>\n",
       "      <th>SlidingTackle</th>\n",
       "      <th>GKDiving</th>\n",
       "      <th>GKHandling</th>\n",
       "      <th>GKKicking</th>\n",
       "      <th>GKPositioning</th>\n",
       "      <th>GKReflexes</th>\n",
       "      <th>Release Clause</th>\n",
       "    </tr>\n",
       "  </thead>\n",
       "  <tbody>\n",
       "    <tr>\n",
       "      <th>0</th>\n",
       "      <td>0</td>\n",
       "      <td>158023</td>\n",
       "      <td>L. Messi</td>\n",
       "      <td>31</td>\n",
       "      <td>https://cdn.sofifa.org/players/4/19/158023.png</td>\n",
       "      <td>Argentina</td>\n",
       "      <td>https://cdn.sofifa.org/flags/52.png</td>\n",
       "      <td>94</td>\n",
       "      <td>94</td>\n",
       "      <td>FC Barcelona</td>\n",
       "      <td>...</td>\n",
       "      <td>96.0</td>\n",
       "      <td>33.0</td>\n",
       "      <td>28.0</td>\n",
       "      <td>26.0</td>\n",
       "      <td>6.0</td>\n",
       "      <td>11.0</td>\n",
       "      <td>15.0</td>\n",
       "      <td>14.0</td>\n",
       "      <td>8.0</td>\n",
       "      <td>€226.5M</td>\n",
       "    </tr>\n",
       "    <tr>\n",
       "      <th>1</th>\n",
       "      <td>1</td>\n",
       "      <td>20801</td>\n",
       "      <td>Cristiano Ronaldo</td>\n",
       "      <td>33</td>\n",
       "      <td>https://cdn.sofifa.org/players/4/19/20801.png</td>\n",
       "      <td>Portugal</td>\n",
       "      <td>https://cdn.sofifa.org/flags/38.png</td>\n",
       "      <td>94</td>\n",
       "      <td>94</td>\n",
       "      <td>Juventus</td>\n",
       "      <td>...</td>\n",
       "      <td>95.0</td>\n",
       "      <td>28.0</td>\n",
       "      <td>31.0</td>\n",
       "      <td>23.0</td>\n",
       "      <td>7.0</td>\n",
       "      <td>11.0</td>\n",
       "      <td>15.0</td>\n",
       "      <td>14.0</td>\n",
       "      <td>11.0</td>\n",
       "      <td>€127.1M</td>\n",
       "    </tr>\n",
       "    <tr>\n",
       "      <th>2</th>\n",
       "      <td>2</td>\n",
       "      <td>190871</td>\n",
       "      <td>Neymar Jr</td>\n",
       "      <td>26</td>\n",
       "      <td>https://cdn.sofifa.org/players/4/19/190871.png</td>\n",
       "      <td>Brazil</td>\n",
       "      <td>https://cdn.sofifa.org/flags/54.png</td>\n",
       "      <td>92</td>\n",
       "      <td>93</td>\n",
       "      <td>Paris Saint-Germain</td>\n",
       "      <td>...</td>\n",
       "      <td>94.0</td>\n",
       "      <td>27.0</td>\n",
       "      <td>24.0</td>\n",
       "      <td>33.0</td>\n",
       "      <td>9.0</td>\n",
       "      <td>9.0</td>\n",
       "      <td>15.0</td>\n",
       "      <td>15.0</td>\n",
       "      <td>11.0</td>\n",
       "      <td>€228.1M</td>\n",
       "    </tr>\n",
       "    <tr>\n",
       "      <th>3</th>\n",
       "      <td>3</td>\n",
       "      <td>193080</td>\n",
       "      <td>De Gea</td>\n",
       "      <td>27</td>\n",
       "      <td>https://cdn.sofifa.org/players/4/19/193080.png</td>\n",
       "      <td>Spain</td>\n",
       "      <td>https://cdn.sofifa.org/flags/45.png</td>\n",
       "      <td>91</td>\n",
       "      <td>93</td>\n",
       "      <td>Manchester United</td>\n",
       "      <td>...</td>\n",
       "      <td>68.0</td>\n",
       "      <td>15.0</td>\n",
       "      <td>21.0</td>\n",
       "      <td>13.0</td>\n",
       "      <td>90.0</td>\n",
       "      <td>85.0</td>\n",
       "      <td>87.0</td>\n",
       "      <td>88.0</td>\n",
       "      <td>94.0</td>\n",
       "      <td>€138.6M</td>\n",
       "    </tr>\n",
       "    <tr>\n",
       "      <th>4</th>\n",
       "      <td>4</td>\n",
       "      <td>192985</td>\n",
       "      <td>K. De Bruyne</td>\n",
       "      <td>27</td>\n",
       "      <td>https://cdn.sofifa.org/players/4/19/192985.png</td>\n",
       "      <td>Belgium</td>\n",
       "      <td>https://cdn.sofifa.org/flags/7.png</td>\n",
       "      <td>91</td>\n",
       "      <td>92</td>\n",
       "      <td>Manchester City</td>\n",
       "      <td>...</td>\n",
       "      <td>88.0</td>\n",
       "      <td>68.0</td>\n",
       "      <td>58.0</td>\n",
       "      <td>51.0</td>\n",
       "      <td>15.0</td>\n",
       "      <td>13.0</td>\n",
       "      <td>5.0</td>\n",
       "      <td>10.0</td>\n",
       "      <td>13.0</td>\n",
       "      <td>€196.4M</td>\n",
       "    </tr>\n",
       "  </tbody>\n",
       "</table>\n",
       "<p>5 rows × 89 columns</p>\n",
       "</div>"
      ],
      "text/plain": [
       "   Unnamed: 0      ID               Name  Age  \\\n",
       "0           0  158023           L. Messi   31   \n",
       "1           1   20801  Cristiano Ronaldo   33   \n",
       "2           2  190871          Neymar Jr   26   \n",
       "3           3  193080             De Gea   27   \n",
       "4           4  192985       K. De Bruyne   27   \n",
       "\n",
       "                                            Photo Nationality  \\\n",
       "0  https://cdn.sofifa.org/players/4/19/158023.png   Argentina   \n",
       "1   https://cdn.sofifa.org/players/4/19/20801.png    Portugal   \n",
       "2  https://cdn.sofifa.org/players/4/19/190871.png      Brazil   \n",
       "3  https://cdn.sofifa.org/players/4/19/193080.png       Spain   \n",
       "4  https://cdn.sofifa.org/players/4/19/192985.png     Belgium   \n",
       "\n",
       "                                  Flag  Overall  Potential  \\\n",
       "0  https://cdn.sofifa.org/flags/52.png       94         94   \n",
       "1  https://cdn.sofifa.org/flags/38.png       94         94   \n",
       "2  https://cdn.sofifa.org/flags/54.png       92         93   \n",
       "3  https://cdn.sofifa.org/flags/45.png       91         93   \n",
       "4   https://cdn.sofifa.org/flags/7.png       91         92   \n",
       "\n",
       "                  Club      ...       Composure Marking StandingTackle  \\\n",
       "0         FC Barcelona      ...            96.0    33.0           28.0   \n",
       "1             Juventus      ...            95.0    28.0           31.0   \n",
       "2  Paris Saint-Germain      ...            94.0    27.0           24.0   \n",
       "3    Manchester United      ...            68.0    15.0           21.0   \n",
       "4      Manchester City      ...            88.0    68.0           58.0   \n",
       "\n",
       "   SlidingTackle GKDiving  GKHandling  GKKicking  GKPositioning GKReflexes  \\\n",
       "0           26.0      6.0        11.0       15.0           14.0        8.0   \n",
       "1           23.0      7.0        11.0       15.0           14.0       11.0   \n",
       "2           33.0      9.0         9.0       15.0           15.0       11.0   \n",
       "3           13.0     90.0        85.0       87.0           88.0       94.0   \n",
       "4           51.0     15.0        13.0        5.0           10.0       13.0   \n",
       "\n",
       "  Release Clause  \n",
       "0        €226.5M  \n",
       "1        €127.1M  \n",
       "2        €228.1M  \n",
       "3        €138.6M  \n",
       "4        €196.4M  \n",
       "\n",
       "[5 rows x 89 columns]"
      ]
     },
     "execution_count": 2,
     "metadata": {},
     "output_type": "execute_result"
    }
   ],
   "source": [
    "df = pd.read_csv('data.csv', sep = ',')\n",
    "df.head()"
   ]
  },
  {
   "cell_type": "markdown",
   "metadata": {},
   "source": [
    "### Первичный анализ данных"
   ]
  },
  {
   "cell_type": "code",
   "execution_count": 3,
   "metadata": {
    "scrolled": true
   },
   "outputs": [
    {
     "name": "stdout",
     "output_type": "stream",
     "text": [
      "<class 'pandas.core.frame.DataFrame'>\n",
      "RangeIndex: 18207 entries, 0 to 18206\n",
      "Data columns (total 89 columns):\n",
      "Unnamed: 0                  18207 non-null int64\n",
      "ID                          18207 non-null int64\n",
      "Name                        18207 non-null object\n",
      "Age                         18207 non-null int64\n",
      "Photo                       18207 non-null object\n",
      "Nationality                 18207 non-null object\n",
      "Flag                        18207 non-null object\n",
      "Overall                     18207 non-null int64\n",
      "Potential                   18207 non-null int64\n",
      "Club                        17966 non-null object\n",
      "Club Logo                   18207 non-null object\n",
      "Value                       18207 non-null object\n",
      "Wage                        18207 non-null object\n",
      "Special                     18207 non-null int64\n",
      "Preferred Foot              18159 non-null object\n",
      "International Reputation    18159 non-null float64\n",
      "Weak Foot                   18159 non-null float64\n",
      "Skill Moves                 18159 non-null float64\n",
      "Work Rate                   18159 non-null object\n",
      "Body Type                   18159 non-null object\n",
      "Real Face                   18159 non-null object\n",
      "Position                    18147 non-null object\n",
      "Jersey Number               18147 non-null float64\n",
      "Joined                      16654 non-null object\n",
      "Loaned From                 1264 non-null object\n",
      "Contract Valid Until        17918 non-null object\n",
      "Height                      18159 non-null object\n",
      "Weight                      18159 non-null object\n",
      "LS                          16122 non-null object\n",
      "ST                          16122 non-null object\n",
      "RS                          16122 non-null object\n",
      "LW                          16122 non-null object\n",
      "LF                          16122 non-null object\n",
      "CF                          16122 non-null object\n",
      "RF                          16122 non-null object\n",
      "RW                          16122 non-null object\n",
      "LAM                         16122 non-null object\n",
      "CAM                         16122 non-null object\n",
      "RAM                         16122 non-null object\n",
      "LM                          16122 non-null object\n",
      "LCM                         16122 non-null object\n",
      "CM                          16122 non-null object\n",
      "RCM                         16122 non-null object\n",
      "RM                          16122 non-null object\n",
      "LWB                         16122 non-null object\n",
      "LDM                         16122 non-null object\n",
      "CDM                         16122 non-null object\n",
      "RDM                         16122 non-null object\n",
      "RWB                         16122 non-null object\n",
      "LB                          16122 non-null object\n",
      "LCB                         16122 non-null object\n",
      "CB                          16122 non-null object\n",
      "RCB                         16122 non-null object\n",
      "RB                          16122 non-null object\n",
      "Crossing                    18159 non-null float64\n",
      "Finishing                   18159 non-null float64\n",
      "HeadingAccuracy             18159 non-null float64\n",
      "ShortPassing                18159 non-null float64\n",
      "Volleys                     18159 non-null float64\n",
      "Dribbling                   18159 non-null float64\n",
      "Curve                       18159 non-null float64\n",
      "FKAccuracy                  18159 non-null float64\n",
      "LongPassing                 18159 non-null float64\n",
      "BallControl                 18159 non-null float64\n",
      "Acceleration                18159 non-null float64\n",
      "SprintSpeed                 18159 non-null float64\n",
      "Agility                     18159 non-null float64\n",
      "Reactions                   18159 non-null float64\n",
      "Balance                     18159 non-null float64\n",
      "ShotPower                   18159 non-null float64\n",
      "Jumping                     18159 non-null float64\n",
      "Stamina                     18159 non-null float64\n",
      "Strength                    18159 non-null float64\n",
      "LongShots                   18159 non-null float64\n",
      "Aggression                  18159 non-null float64\n",
      "Interceptions               18159 non-null float64\n",
      "Positioning                 18159 non-null float64\n",
      "Vision                      18159 non-null float64\n",
      "Penalties                   18159 non-null float64\n",
      "Composure                   18159 non-null float64\n",
      "Marking                     18159 non-null float64\n",
      "StandingTackle              18159 non-null float64\n",
      "SlidingTackle               18159 non-null float64\n",
      "GKDiving                    18159 non-null float64\n",
      "GKHandling                  18159 non-null float64\n",
      "GKKicking                   18159 non-null float64\n",
      "GKPositioning               18159 non-null float64\n",
      "GKReflexes                  18159 non-null float64\n",
      "Release Clause              16643 non-null object\n",
      "dtypes: float64(38), int64(6), object(45)\n",
      "memory usage: 12.4+ MB\n"
     ]
    }
   ],
   "source": [
    "df.info()"
   ]
  },
  {
   "cell_type": "markdown",
   "metadata": {},
   "source": [
    "Оставляем только самое необходимое"
   ]
  },
  {
   "cell_type": "code",
   "execution_count": 4,
   "metadata": {},
   "outputs": [
    {
     "data": {
      "text/html": [
       "<div>\n",
       "<style scoped>\n",
       "    .dataframe tbody tr th:only-of-type {\n",
       "        vertical-align: middle;\n",
       "    }\n",
       "\n",
       "    .dataframe tbody tr th {\n",
       "        vertical-align: top;\n",
       "    }\n",
       "\n",
       "    .dataframe thead th {\n",
       "        text-align: right;\n",
       "    }\n",
       "</style>\n",
       "<table border=\"1\" class=\"dataframe\">\n",
       "  <thead>\n",
       "    <tr style=\"text-align: right;\">\n",
       "      <th></th>\n",
       "      <th>Nationality</th>\n",
       "      <th>Preferred Foot</th>\n",
       "      <th>Overall</th>\n",
       "    </tr>\n",
       "  </thead>\n",
       "  <tbody>\n",
       "    <tr>\n",
       "      <th>0</th>\n",
       "      <td>Argentina</td>\n",
       "      <td>Left</td>\n",
       "      <td>94</td>\n",
       "    </tr>\n",
       "    <tr>\n",
       "      <th>1</th>\n",
       "      <td>Portugal</td>\n",
       "      <td>Right</td>\n",
       "      <td>94</td>\n",
       "    </tr>\n",
       "    <tr>\n",
       "      <th>2</th>\n",
       "      <td>Brazil</td>\n",
       "      <td>Right</td>\n",
       "      <td>92</td>\n",
       "    </tr>\n",
       "    <tr>\n",
       "      <th>3</th>\n",
       "      <td>Spain</td>\n",
       "      <td>Right</td>\n",
       "      <td>91</td>\n",
       "    </tr>\n",
       "    <tr>\n",
       "      <th>4</th>\n",
       "      <td>Belgium</td>\n",
       "      <td>Right</td>\n",
       "      <td>91</td>\n",
       "    </tr>\n",
       "  </tbody>\n",
       "</table>\n",
       "</div>"
      ],
      "text/plain": [
       "  Nationality Preferred Foot  Overall\n",
       "0   Argentina           Left       94\n",
       "1    Portugal          Right       94\n",
       "2      Brazil          Right       92\n",
       "3       Spain          Right       91\n",
       "4     Belgium          Right       91"
      ]
     },
     "execution_count": 4,
     "metadata": {},
     "output_type": "execute_result"
    }
   ],
   "source": [
    "#упрощаем дата-сет\n",
    "cols = ['Nationality', 'Preferred Foot', 'Overall']\n",
    "df = df[cols]\n",
    "df.head()"
   ]
  },
  {
   "cell_type": "code",
   "execution_count": 5,
   "metadata": {
    "scrolled": true
   },
   "outputs": [
    {
     "data": {
      "text/plain": [
       "Preferred Foot\n",
       "Left     66.801472\n",
       "Right    66.083381\n",
       "Name: Overall, dtype: float64"
      ]
     },
     "execution_count": 5,
     "metadata": {},
     "output_type": "execute_result"
    }
   ],
   "source": [
    "df.groupby(['Preferred Foot'])['Overall'].mean()"
   ]
  },
  {
   "cell_type": "markdown",
   "metadata": {},
   "source": [
    "Вроде в среднем рейтинг игроков левшей лучше???(изучим вопрос далее)"
   ]
  },
  {
   "cell_type": "code",
   "execution_count": 6,
   "metadata": {},
   "outputs": [
    {
     "data": {
      "text/plain": [
       "Preferred Foot\n",
       "Left     6.557186\n",
       "Right    7.010650\n",
       "Name: Overall, dtype: float64"
      ]
     },
     "execution_count": 6,
     "metadata": {},
     "output_type": "execute_result"
    }
   ],
   "source": [
    "df.groupby(['Preferred Foot'])['Overall'].std()"
   ]
  },
  {
   "cell_type": "markdown",
   "metadata": {},
   "source": [
    "Дисперсии различны!!!(стандартное отклонение в квадрате)"
   ]
  },
  {
   "cell_type": "code",
   "execution_count": 7,
   "metadata": {},
   "outputs": [
    {
     "data": {
      "text/plain": [
       "<matplotlib.axes._subplots.AxesSubplot at 0x7f784bd2b860>"
      ]
     },
     "execution_count": 7,
     "metadata": {},
     "output_type": "execute_result"
    },
    {
     "data": {
      "image/png": "[encoded data removed]",
      "text/plain": [
       "<Figure size 432x288 with 1 Axes>"
      ]
     },
     "metadata": {
      "needs_background": "light"
     },
     "output_type": "display_data"
    }
   ],
   "source": [
    "df['Preferred Foot'].value_counts().sort_index().plot.bar()"
   ]
  },
  {
   "cell_type": "code",
   "execution_count": 8,
   "metadata": {
    "scrolled": false
   },
   "outputs": [
    {
     "data": {
      "text/plain": [
       "(array([1.000e+00, 2.000e+01, 3.200e+01, 3.600e+01, 1.030e+02, 1.250e+02,\n",
       "        1.590e+02, 1.990e+02, 2.500e+02, 2.650e+02, 3.430e+02, 4.020e+02,\n",
       "        4.440e+02, 5.250e+02, 6.490e+02, 7.110e+02, 8.780e+02, 1.002e+03,\n",
       "        1.091e+03, 1.045e+03, 1.163e+03, 1.118e+03, 1.035e+03, 9.730e+02,\n",
       "        8.890e+02, 7.830e+02, 7.530e+02, 6.080e+02, 5.370e+02, 4.970e+02,\n",
       "        3.730e+02, 3.040e+02, 1.680e+02, 1.710e+02, 1.430e+02, 9.300e+01,\n",
       "        9.400e+01, 7.000e+01, 4.500e+01, 3.300e+01, 2.200e+01, 1.300e+01,\n",
       "        1.700e+01, 1.100e+01, 5.000e+00, 6.000e+00, 1.000e+00, 2.000e+00]),\n",
       " array([46., 47., 48., 49., 50., 51., 52., 53., 54., 55., 56., 57., 58.,\n",
       "        59., 60., 61., 62., 63., 64., 65., 66., 67., 68., 69., 70., 71.,\n",
       "        72., 73., 74., 75., 76., 77., 78., 79., 80., 81., 82., 83., 84.,\n",
       "        85., 86., 87., 88., 89., 90., 91., 92., 93., 94.]),\n",
       " <a list of 48 Patch objects>)"
      ]
     },
     "execution_count": 8,
     "metadata": {},
     "output_type": "execute_result"
    },
    {
     "data": {
      "image/png": "[encoded data removed]",
      "text/plain": [
       "<Figure size 432x288 with 1 Axes>"
      ]
     },
     "metadata": {
      "needs_background": "light"
     },
     "output_type": "display_data"
    }
   ],
   "source": [
    "plt.hist(df['Overall'], 48, alpha=0.8)"
   ]
  },
  {
   "cell_type": "markdown",
   "metadata": {},
   "source": [
    "Похоже на нормальное распределение..."
   ]
  },
  {
   "cell_type": "code",
   "execution_count": 9,
   "metadata": {},
   "outputs": [
    {
     "data": {
      "text/plain": [
       "<matplotlib.axes._subplots.AxesSubplot at 0x7f784bbb4a90>"
      ]
     },
     "execution_count": 9,
     "metadata": {},
     "output_type": "execute_result"
    },
    {
     "data": {
      "image/png": "[encoded data removed]",
      "text/plain": [
       "<Figure size 432x288 with 1 Axes>"
      ]
     },
     "metadata": {
      "needs_background": "light"
     },
     "output_type": "display_data"
    }
   ],
   "source": [
    "df_Natiolality = df.groupby(['Nationality'])['Overall'].mean()\n",
    "df_Natiolality.plot.hist(bins=20)"
   ]
  },
  {
   "cell_type": "code",
   "execution_count": 10,
   "metadata": {},
   "outputs": [
    {
     "data": {
      "text/plain": [
       "<matplotlib.axes._subplots.AxesSubplot at 0x7f784bb47c50>"
      ]
     },
     "execution_count": 10,
     "metadata": {},
     "output_type": "execute_result"
    },
    {
     "data": {
      "image/png": "[encoded data removed]",
      "text/plain": [
       "<Figure size 432x288 with 1 Axes>"
      ]
     },
     "metadata": {
      "needs_background": "light"
     },
     "output_type": "display_data"
    }
   ],
   "source": [
    "df_Natiolality = df.groupby(['Nationality'])['Overall'].std()\n",
    "df_Natiolality.plot.hist(bins=20)"
   ]
  },
  {
   "cell_type": "markdown",
   "metadata": {},
   "source": [
    "### Проверка распределения на нормальность"
   ]
  },
  {
   "cell_type": "markdown",
   "metadata": {},
   "source": [
    "### Q-Q Plot"
   ]
  },
  {
   "cell_type": "code",
   "execution_count": 11,
   "metadata": {},
   "outputs": [
    {
     "data": {
      "image/png": "[encoded data removed]",
      "text/plain": [
       "<Figure size 432x288 with 1 Axes>"
      ]
     },
     "metadata": {
      "needs_background": "light"
     },
     "output_type": "display_data"
    }
   ],
   "source": [
    "stats.probplot(df['Overall'], dist = \"norm\", plot = plt)\n",
    "plt.show()"
   ]
  },
  {
   "cell_type": "markdown",
   "metadata": {},
   "source": [
    "Из графика видно, что распределение схоже с нормальным(квантили), так как все точки попадают на прямую y=x (хвосты немного тяжелые)"
   ]
  },
  {
   "cell_type": "markdown",
   "metadata": {},
   "source": [
    "### Критерий Шапиро-Уилка:\n",
    "\n",
    "$H_0\\colon$ попарные разности распределены нормально.\n",
    "\n",
    "$H_1\\colon$ не нормально."
   ]
  },
  {
   "cell_type": "code",
   "execution_count": 12,
   "metadata": {},
   "outputs": [
    {
     "name": "stdout",
     "output_type": "stream",
     "text": [
      "p-value 0.11913612912477128\n"
     ]
    },
    {
     "data": {
      "image/png": "[encoded data removed]",
      "text/plain": [
       "<Figure size 432x288 with 1 Axes>"
      ]
     },
     "metadata": {
      "needs_background": "light"
     },
     "output_type": "display_data"
    }
   ],
   "source": [
    "def check_norm(sz = 10):\n",
    "    Sum_p = 0\n",
    "    Wl = []\n",
    "    \n",
    "    for i in range(sz):\n",
    "        sample = np.array(df['Overall'])     \n",
    "        np.random.shuffle(sample)\n",
    "        W, p = stats.shapiro(sample[:400])\n",
    "        Sum_p += p  \n",
    "        Wl.append(W)\n",
    "    \n",
    "    return Wl, Sum_p/sz\n",
    "\n",
    "Wl, p_value = check_norm(sz = 10000)\n",
    "print('p-value', p_value)\n",
    "\n",
    "plt.hist(Wl,bins = 100)\n",
    "plt.show()\n"
   ]
  },
  {
   "cell_type": "markdown",
   "metadata": {},
   "source": [
    "p-value $>$ 0.05, поэтому гипотеза о нормальности принимается"
   ]
  },
  {
   "cell_type": "markdown",
   "metadata": {},
   "source": [
    "**Примечание:** тест Шапиро-Уилка лучше на выборках не очень большого объема(явное ограничение в документации SciPy), \n",
    "            поэтому имеет смысл брать выборки из генеральной совокупности, и уже для них применять тест."
   ]
  },
  {
   "cell_type": "markdown",
   "metadata": {},
   "source": [
    "### Вывод:  \n",
    "генеральная совокупность имеет **нормальное распределение** (следовательно можно использовать различные \"сильные\" критерии)"
   ]
  },
  {
   "cell_type": "markdown",
   "metadata": {},
   "source": [
    "### Задача 1\n",
    "Игровой рейтинг (поле Overall) \"левшей\" (поле Preferred Foot) больше рейтинга \"правшей\"?"
   ]
  },
  {
   "cell_type": "code",
   "execution_count": 13,
   "metadata": {},
   "outputs": [],
   "source": [
    "#можем по желанию ограничить выборку\n",
    "left_overall = df[df['Preferred Foot'] == 'Left']['Overall']\n",
    "right_overall = df[df['Preferred Foot'] == 'Right']['Overall']"
   ]
  },
  {
   "cell_type": "markdown",
   "metadata": {},
   "source": [
    "### Гипотезы\n",
    "$H_0$ - средний игровой рейтинг \"левшей\" $=$ средний игровой рейтинг \"правшей\"(нулевая гипотеза)\n",
    "\n",
    "$H_1$ - средний игровой рейтинг \"левшей\" $>$ средний игровой рейтинг \"правшей\"(альтернативная гипотеза)"
   ]
  },
  {
   "cell_type": "markdown",
   "metadata": {},
   "source": [
    "### 2.2 Критерий Стьюдента(для несвязанных выборок)"
   ]
  },
  {
   "cell_type": "markdown",
   "metadata": {},
   "source": [
    "Критерий Стьюдента применим лишь тогда, когда данные распределенны **нормально**(так и есть) "
   ]
  },
  {
   "cell_type": "code",
   "execution_count": 14,
   "metadata": {},
   "outputs": [
    {
     "data": {
      "text/plain": [
       "(array([  77.,  332.,  593.,  971., 1478., 3019., 2463., 2014., 1421.,\n",
       "         893.,  449.,  156.,   51.,   23.,    8.]),\n",
       " array([46. , 49.2, 52.4, 55.6, 58.8, 62. , 65.2, 68.4, 71.6, 74.8, 78. ,\n",
       "        81.2, 84.4, 87.6, 90.8, 94. ]),\n",
       " <a list of 15 Patch objects>)"
      ]
     },
     "execution_count": 14,
     "metadata": {},
     "output_type": "execute_result"
    },
    {
     "data": {
      "image/png": "[encoded data removed]",
      "text/plain": [
       "<Figure size 1728x432 with 2 Axes>"
      ]
     },
     "metadata": {
      "needs_background": "light"
     },
     "output_type": "display_data"
    }
   ],
   "source": [
    "fig = plt.figure(figsize=(24, 6))\n",
    "\n",
    "ax1 = plt.subplot(121)\n",
    "plt.hist(left_overall, 15, color='green')\n",
    "\n",
    "ax2 = plt.subplot(122)\n",
    "plt.hist(right_overall, 15)"
   ]
  },
  {
   "cell_type": "markdown",
   "metadata": {},
   "source": [
    "### Проверка на равенство дисперсий"
   ]
  },
  {
   "cell_type": "code",
   "execution_count": 15,
   "metadata": {},
   "outputs": [
    {
     "name": "stdout",
     "output_type": "stream",
     "text": [
      "6.5571855179816305 7.010649734817939\n",
      "2.271381808572723e-08\n"
     ]
    }
   ],
   "source": [
    "#Можно заметить, что дисперсия совпадает, при помощи критерия Левене\n",
    "print(left_overall.std(), right_overall.std())\n",
    "\n",
    "(W,p) = stats.levene(left_overall, right_overall)\n",
    "print(p)"
   ]
  },
  {
   "cell_type": "markdown",
   "metadata": {},
   "source": [
    "Из критерия видно, что дисперсии **различны**, следовательно:\n",
    "\n",
    "Используем t-критерий **для несвязанных выборок с различными дисперсиями**"
   ]
  },
  {
   "cell_type": "markdown",
   "metadata": {},
   "source": [
    "Cам t-критерий:"
   ]
  },
  {
   "cell_type": "markdown",
   "metadata": {},
   "source": [
    "**t** = $ \\frac{\\text{Разность выборочных средних}} {\\text{Стандартная ошибка разности выборочных средних} } = \\frac{\\overline{X_1}-\\overline{X_2}} {{S_{\\overline{X_1} - \\overline{X_2}}}}  = \\frac{\\overline{X_1}-\\overline{X_2}} { \\sqrt{ S_{\\overline{X_1}}^2 +  S_{\\overline{X_2}}^2 } } = \\frac{\\overline{X_1}-\\overline{X_2}} { \\sqrt{ \\frac{S_1^2} {n_1} +  \\frac{S_2^2} {n_2} } } $"
   ]
  },
  {
   "cell_type": "markdown",
   "metadata": {},
   "source": [
    "Мы принимаем уровень значимости равный 5%(справа критическое значение соотв. 0.95). \n",
    "\n",
    "Исходя из условий задачи мы рассматриваем **правосторонний** тест"
   ]
  },
  {
   "cell_type": "markdown",
   "metadata": {},
   "source": [
    "Рассчитанное значение t-статистики:"
   ]
  },
  {
   "cell_type": "code",
   "execution_count": 16,
   "metadata": {},
   "outputs": [
    {
     "data": {
      "text/plain": [
       "6.12739948118997"
      ]
     },
     "execution_count": 16,
     "metadata": {},
     "output_type": "execute_result"
    }
   ],
   "source": [
    "t_obs = (left_overall.mean() - right_overall.mean()) / np.sqrt( (left_overall.std())**2 / len(left_overall) \\\n",
    "                                                     + (right_overall.std())**2 / len(right_overall) )\n",
    "t_obs"
   ]
  },
  {
   "cell_type": "markdown",
   "metadata": {},
   "source": [
    "Теоретическое значение t-статистики**(правосторонний тест)**:"
   ]
  },
  {
   "cell_type": "markdown",
   "metadata": {},
   "source": [
    "Так как дисперсии выборок различны, то $df$ - число степеней совободы определяется:\n",
    "\n",
    "##  $df = \\frac{{(\\frac{S_1^2} {n_1} +  \\frac{S_2^2} {n_2})}^2} {\\frac{(\\frac{S_1^2} {n_1})^2}{n_1-1} +  \\frac{(\\frac{S_2^2} {n_2})^2}{n_2-1}}$ "
   ]
  },
  {
   "cell_type": "code",
   "execution_count": 17,
   "metadata": {},
   "outputs": [
    {
     "data": {
      "text/plain": [
       "1.6450608877199313"
      ]
     },
     "execution_count": 17,
     "metadata": {},
     "output_type": "execute_result"
    }
   ],
   "source": [
    "_df = ((left_overall.std())**2 / len(left_overall) + (right_overall.std())**2 / len(right_overall))**2 \\\n",
    "        /( ((left_overall.std())**2 / len(left_overall))**2/(len(left_overall)-1) + \\\n",
    "           ((right_overall.std())**2 / len(right_overall))**2/(len(right_overall)-1) )\n",
    "\n",
    "stats.t.ppf(0.95, _df)#квантиль порядка 1-alpha"
   ]
  },
  {
   "cell_type": "markdown",
   "metadata": {},
   "source": [
    "Если посчитать p-value(сравнить с уровнем значимости):"
   ]
  },
  {
   "cell_type": "code",
   "execution_count": 18,
   "metadata": {},
   "outputs": [
    {
     "name": "stdout",
     "output_type": "stream",
     "text": [
      "p-value = 4.696677618481202e-10\n"
     ]
    }
   ],
   "source": [
    "#функция считающая вероятноcть\n",
    "print('p-value =', stats.t.sf(t_obs, _df))"
   ]
  },
  {
   "cell_type": "markdown",
   "metadata": {},
   "source": [
    "Давайте дополнительно найдем Теоретическое значение t-статистики **на левом конце**:"
   ]
  },
  {
   "cell_type": "code",
   "execution_count": 19,
   "metadata": {},
   "outputs": [
    {
     "data": {
      "text/plain": [
       "-1.645060887719932"
      ]
     },
     "execution_count": 19,
     "metadata": {},
     "output_type": "execute_result"
    }
   ],
   "source": [
    "#число степеней свободы тоже\n",
    "stats.t.ppf(0.05, _df)#квантиль порядка alpha"
   ]
  },
  {
   "cell_type": "markdown",
   "metadata": {},
   "source": [
    "Рассчитанное значение t-статистики $t_{obs}$ не меняется"
   ]
  },
  {
   "cell_type": "markdown",
   "metadata": {},
   "source": [
    "$t_{obs}$ > теоретическое значения t-статистики(на левом конце) **и** \n",
    "\n",
    "$t_{obs}$ > теоретическое значения t-статистики(на правом конце)\n",
    "\n",
    "$=>$  $t_{obs}$ выходит из области принятия**(интервала)** гипотезы $H_0$ **справа**  $=>$\n",
    "\n",
    "$=>$ значит гипотезу  $H_0$ **отвергаем в пользу** $H_1$ - средний игровой рейтинг \"левшей\" $>$ средний игровой рейтинг \"правшей\"(альтернативная гипотеза)   "
   ]
  },
  {
   "cell_type": "markdown",
   "metadata": {},
   "source": [
    "Ради интереса можем применить **критерий Манна-Уитни**\n",
    "\n",
    "Он работает и для произвольных выборок(не обязательно нормально распределенных)"
   ]
  },
  {
   "cell_type": "code",
   "execution_count": 20,
   "metadata": {},
   "outputs": [
    {
     "name": "stdout",
     "output_type": "stream",
     "text": [
      "27693265.5 two-sample wilcoxon-test 9.468043989128382e-09\n"
     ]
    }
   ],
   "source": [
    "#применяем критерий Манна-Уитни,\n",
    "u, p_value = stats.mannwhitneyu(left_overall, right_overall)\n",
    "print(u, \"two-sample wilcoxon-test\", p_value)"
   ]
  },
  {
   "cell_type": "markdown",
   "metadata": {},
   "source": [
    "Ну в nринципе как и ожидалось, средние различны"
   ]
  },
  {
   "cell_type": "markdown",
   "metadata": {},
   "source": [
    "### Вывод:\n",
    "Итого: отвергаем $H_0$ в пользу $H_1$(рассчетная t-статистика расположена правее области принятия)\n",
    "\n",
    "\n",
    "Игровой рейтинг (поле Overall) \"левшей\" (поле Preferred Foot) **больше** рейтинга \"правшей\""
   ]
  },
  {
   "cell_type": "markdown",
   "metadata": {},
   "source": [
    "### Задача 2\n",
    "\n",
    "Проверить гипотезу: Средний игровой рейтинг игроков из Аргентины, Англии и Германии (поле Nationality) одинаков."
   ]
  },
  {
   "cell_type": "markdown",
   "metadata": {},
   "source": [
    "### Гипотезы:\n",
    "\n",
    "$H_0$ - Средний игровой рейтинг игроков из Аргентины, Англии и Германии (поле Nationality) одинаков\n",
    "\n",
    "$H_1$ - Средний игровой рейтинг игроков из Аргентины, Англии и Германии (поле Nationality) различен"
   ]
  },
  {
   "cell_type": "markdown",
   "metadata": {},
   "source": [
    "Тут происходит множественное сравнение $=>$ используем **ANOVA** анализ\n",
    "\n",
    "Анализ применим только для **нормально распределенных совокупностей**!!!(Проверяли выше)"
   ]
  },
  {
   "cell_type": "code",
   "execution_count": 21,
   "metadata": {},
   "outputs": [],
   "source": [
    "Arg_overall = np.array(df[df['Nationality'] == 'Argentina']['Overall'])\n",
    "Engl_overall = np.array(df[df['Nationality'] == 'England']['Overall'])\n",
    "Germ_overall = np.array(df[df['Nationality'] == 'Germany']['Overall'])\n",
    "\n",
    "np.random.shuffle(Arg_overall)\n",
    "np.random.shuffle(Engl_overall)\n",
    "np.random.shuffle(Germ_overall)"
   ]
  },
  {
   "cell_type": "code",
   "execution_count": 22,
   "metadata": {},
   "outputs": [],
   "source": [
    "sample_groups = [Arg_overall, Engl_overall, Germ_overall]"
   ]
  },
  {
   "cell_type": "code",
   "execution_count": 23,
   "metadata": {},
   "outputs": [
    {
     "name": "stdout",
     "output_type": "stream",
     "text": [
      "[68.57203842049093, 63.42960288808664, 66.08681135225376]\n",
      "[0 1 2]\n",
      "[6.163148944845217, 6.783273099749994, 6.636204364198736]\n",
      "66.02948422027711\n"
     ]
    },
    {
     "data": {
      "image/png": "[encoded data removed]",
      "text/plain": [
       "<Figure size 432x288 with 1 Axes>"
      ]
     },
     "metadata": {
      "needs_background": "light"
     },
     "output_type": "display_data"
    }
   ],
   "source": [
    "#Средние каждой выборки, их стандартное отклонение, а также стандартное отклонение средних и среднее средних\n",
    "x = [sample_groups[i].mean() for i in range(len(sample_groups))]\n",
    "print(x)\n",
    "y = np.arange(len(sample_groups))\n",
    "print(y)\n",
    "e = [sample_groups[i].std() for i in range(len(sample_groups))]\n",
    "print(e)\n",
    "plt.errorbar(x, y, xerr = e, linestyle='None', marker='o')\n",
    "\n",
    "plt.errorbar( np.mean(x), len(y) ,xerr =  np.std(x), linestyle='None', marker='o')\n",
    "print(np.mean(x))\n",
    "plt.show()"
   ]
  },
  {
   "cell_type": "markdown",
   "metadata": {},
   "source": [
    "Применимость **ANOVA**(дисперсии должны совпадать)"
   ]
  },
  {
   "cell_type": "code",
   "execution_count": 24,
   "metadata": {},
   "outputs": [
    {
     "name": "stdout",
     "output_type": "stream",
     "text": [
      "p-value = 0.07640649585695944\n"
     ]
    }
   ],
   "source": [
    "#Можно заметить, что дисперсия совпадает, при помощи критерия Левене\n",
    "(W,p) = stats.levene(sample_groups[0], sample_groups[1], sample_groups[2])\n",
    "print('p-value =',p)"
   ]
  },
  {
   "cell_type": "markdown",
   "metadata": {},
   "source": [
    "p-value $>$ 0.05, поэтому гипотеза о равенстве дисперсий **принимается**"
   ]
  },
  {
   "cell_type": "markdown",
   "metadata": {},
   "source": [
    " Нулевая гипотеза $H_0$ ANOVA предполагает, что мат. ожидания совпадают."
   ]
  },
  {
   "cell_type": "markdown",
   "metadata": {},
   "source": [
    "**F** = $ \\frac{\\text{Дисперсия совокупности,оцененная по выборочным средним}} {\\text{Дисперсия совокупности, оцененная по выборочным дисперсиям}} =  \\frac{Sмеж.^2} {Sвнутр.^2} = SST = \\frac{\\frac{SSB} {m-1}} {\\frac{SSW} {N - m}} $"
   ]
  },
  {
   "cell_type": "markdown",
   "metadata": {},
   "source": [
    "$ SST - \\text{общая изменчивость}, $ \n",
    "$ SSB - \\text{межгрупповая изменчивость}, $ \n",
    "$ SSW - \\text{внутригрупповая изменчивость}$ "
   ]
  },
  {
   "cell_type": "code",
   "execution_count": 25,
   "metadata": {},
   "outputs": [
    {
     "name": "stdout",
     "output_type": "stream",
     "text": [
      "188.4577613116321 9.304102531320665e-79\n"
     ]
    }
   ],
   "source": [
    "F, p = stats.f_oneway(sample_groups[0],sample_groups[1],sample_groups[2])\n",
    "print(F, p)"
   ]
  },
  {
   "cell_type": "markdown",
   "metadata": {},
   "source": [
    "Мы можем **отвергнуть** гипотезу $H_0$ в пользу $H_1$, т.к. p-value < 0.05"
   ]
  },
  {
   "cell_type": "markdown",
   "metadata": {},
   "source": [
    "Но тут возникает естественный вопрос: для каких пар объектов гипотеза отклоняется???\n",
    "\n",
    "При этом нужно провести серию сравнений, по одному для каждой пары $=>$ появляется **эффект множественных сравнений**"
   ]
  },
  {
   "cell_type": "markdown",
   "metadata": {},
   "source": [
    "Надо скорректировать вероятность p при помощи метода **Бонферрони**:"
   ]
  },
  {
   "cell_type": "code",
   "execution_count": 31,
   "metadata": {
    "scrolled": true
   },
   "outputs": [
    {
     "name": "stdout",
     "output_type": "stream",
     "text": [
      "1.1654484192722837e-76 1.731315688159279e-18 5.2486111739015295e-25\n"
     ]
    }
   ],
   "source": [
    "#Попарно применили критерий Стьюдента\n",
    "t_val1, pVal_t1 = stats.ttest_ind(sample_groups[0],sample_groups[1])#Аргентины, Англии\n",
    "t_val2, pVal_t2 = stats.ttest_ind(sample_groups[0],sample_groups[2])#Аргентины, Германии\n",
    "t_val3, pVal_t3 = stats.ttest_ind(sample_groups[1],sample_groups[2])#Англии, Германии\n",
    "\n",
    "print(pVal_t1, pVal_t2, pVal_t3)"
   ]
  },
  {
   "cell_type": "markdown",
   "metadata": {},
   "source": [
    "Если мы хотим, чтобы групповая вероятность ошибки при этом не превышала определенный уровень значимости α (например, 0.05), то, согласно методу Бонферрони, мы должны сравнить каждое из полученных Р-значений не с α, а с α/k, где k - число проверяемых гипотез."
   ]
  },
  {
   "cell_type": "code",
   "execution_count": 32,
   "metadata": {},
   "outputs": [
    {
     "data": {
      "text/plain": [
       "0.016666666666666666"
      ]
     },
     "execution_count": 32,
     "metadata": {},
     "output_type": "execute_result"
    }
   ],
   "source": [
    "alpha = 0.05/3\n",
    "alpha"
   ]
  },
  {
   "cell_type": "code",
   "execution_count": 33,
   "metadata": {},
   "outputs": [
    {
     "name": "stdout",
     "output_type": "stream",
     "text": [
      "Они все имеют разный средний рейтинг!\n"
     ]
    }
   ],
   "source": [
    "if pVal_t1 < alpha and pVal_t2 < alpha and pVal_t3 < alpha:\n",
    "    print(\"Они все имеют разный средний рейтинг!\")\n",
    "else:\n",
    "    print(\"Есть одинаковые\")"
   ]
  },
  {
   "cell_type": "markdown",
   "metadata": {},
   "source": [
    "Попробуем использовать вместо Стюдента **критерий Манна-Уитни**:"
   ]
  },
  {
   "cell_type": "code",
   "execution_count": 34,
   "metadata": {},
   "outputs": [
    {
     "name": "stdout",
     "output_type": "stream",
     "text": [
      "2.1695329191349672e-75 5.408065915956872e-22 5.1983501658344504e-24\n"
     ]
    }
   ],
   "source": [
    "t_val1, pVal_t1 = stats.mannwhitneyu(sample_groups[0],sample_groups[1])#Аргентины, Англии\n",
    "t_val2, pVal_t2 = stats.mannwhitneyu(sample_groups[0],sample_groups[2])#Аргентины, Германии\n",
    "t_val3, pVal_t3 = stats.mannwhitneyu(sample_groups[1],sample_groups[2])#Англии, Германии\n",
    "print(pVal_t1, pVal_t2, pVal_t3)"
   ]
  },
  {
   "cell_type": "code",
   "execution_count": 35,
   "metadata": {},
   "outputs": [
    {
     "name": "stdout",
     "output_type": "stream",
     "text": [
      "Они все имеют разный средний рейтинг!\n"
     ]
    }
   ],
   "source": [
    "if pVal_t1 < alpha and pVal_t2 < alpha and pVal_t3 < alpha:\n",
    "    print(\"Они все имеют разный средний рейтинг!\")\n",
    "else:\n",
    "    print(\"Есть одинаковые\")"
   ]
  },
  {
   "cell_type": "markdown",
   "metadata": {},
   "source": [
    "Тот же результат!"
   ]
  },
  {
   "cell_type": "markdown",
   "metadata": {},
   "source": [
    "### Вывод:\n",
    "Итого: отвергаем $H_0$ в пользу $H_1$ (Средний игровой рейтинг игроков из Аргентины, Англии и Германии (поле Nationality) **различен**), \n",
    "\n",
    "причём гипотеза совпадения М.О.  парных выборок совокупности **так же** была **отвергнута** (для любой пары выборок)"
   ]
  }
 ],
 "metadata": {
  "kernelspec": {
   "display_name": "Python 3",
   "language": "python",
   "name": "python3"
  },
  "language_info": {
   "codemirror_mode": {
    "name": "ipython",
    "version": 3
   },
   "file_extension": ".py",
   "mimetype": "text/x-python",
   "name": "python",
   "nbconvert_exporter": "python",
   "pygments_lexer": "ipython3",
   "version": "3.7.0"
  }
 },
 "nbformat": 4,
 "nbformat_minor": 2
}
