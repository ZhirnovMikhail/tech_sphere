{
 "cells": [
  {
   "cell_type": "markdown",
   "metadata": {},
   "source": [
    "**Общая информация**\n",
    "\n",
    "**Срок сдачи:** 18 октября 2017, 06:00 <br\\>\n",
    "**Штраф за опоздание:** -2 балла после 06:00 18 октября, -4 балла после 06:00 25 октября, -6 баллов после 06:00 1 ноября\n",
    "\n",
    "При отправлении ДЗ указывайте фамилию в названии файла\n",
    "Присылать ДЗ необходимо в виде ссылки на свой github репозиторий в slack @alkhamush\n",
    "\n",
    "Необходимо в slack создать таск в приватный чат:\n",
    "/todo Фамилия Имя ссылка на гитхаб @alkhamush\n",
    "Пример:\n",
    "/todo Ксения Стройкова https://github.com/stroykova/spheremailru/stroykova_hw1.ipynb @alkhamush\n",
    "Дополнительно нужно просто скинуть ссылку в slack в личный чат\n",
    "\n",
    "Используйте данный Ipython Notebook при оформлении домашнего задания."
   ]
  },
  {
   "cell_type": "markdown",
   "metadata": {},
   "source": [
    "###### Задание 1 (2 баллов)\n",
    "Реализовать KNN в классе MyKNeighborsClassifier (обязательное условие: точность не ниже sklearn реализации)\n",
    "Разберитесь самостоятельно, какая мера расстояния используется в KNeighborsClassifier дефолтно и реализуйте свой алгоритм именно с этой мерой. Самостоятельно разберитесь, как считается score из KNeighborsClassifier и реализуйте аналог в своём классе. Score не должен уступать значению KNN из sklearn\n",
    "\n",
    "###### Задание 2 (2 балла)\n",
    "Добиться скорости работы на fit,  predict и predict_proba сравнимой со sklearn для iris и mnist\n",
    "Для этого используем numpy\n",
    "\n",
    "###### Задание 3 (2 балла)\n",
    "Для iris найдите такой параметр n_neighbors, при котором выдаётся наилучший score. Нарисуйте график зависимости score от n_neighbors\n",
    "\n",
    "###### Задание 4 (3 балла)\n",
    "Добавить algorithm='kd_tree' в реализацию KNN (использовать KDTree из sklearn.neighbors). Значение n_neighbors нужно взять из задания 3. Добиться скорости работы на fit,  predict и predict_proba сравнимой со sklearn для iris и mnist\n",
    "Для этого используем numpy. Score не должен уступать значению KNN из sklearn\n",
    "\n",
    "###### Задание 5 (1 балла)\n",
    "Описать для чего нужны следующие библиотеки/классы/функции (список будет ниже)\n",
    "\n",
    "**Штрафные баллы:**\n",
    "\n",
    "1. Невыполнение PEP8 -1 балл\n",
    "2. Отсутствие фамилии в имени скрипта (скрипт должен называться по аналогии со stroykova_hw1.ipynb) -1 балл\n",
    "3. Все строчки должны быть выполнены. Нужно, чтобы output команды можно было увидеть уже в git'е. В противном случае -1 балл\n",
    "4. При оформлении ДЗ нужно пользоваться данным файлом в качестве шаблона. Не нужно удалять и видоизменять структуру кода и текст. В противном случае -1 балл\n"
   ]
  },
  {
   "cell_type": "code",
   "execution_count": 1,
   "metadata": {},
   "outputs": [],
   "source": [
    "import numpy as np\n",
    "import matplotlib.pyplot as plt\n",
    "from collections import Counter\n",
    "\n",
    "import seaborn as sns\n",
    "from sklearn import datasets\n",
    "from sklearn.base import ClassifierMixin\n",
    "from sklearn.datasets import fetch_mldata\n",
    "from sklearn.neighbors.base import NeighborsBase, KNeighborsMixin, SupervisedIntegerMixin \n",
    "from sklearn.model_selection import train_test_split\n",
    "from sklearn.neighbors import KNeighborsClassifier, KDTree\n",
    "from sklearn.metrics import pairwise_distances\n",
    "\n",
    "%load_ext pycodestyle_magic"
   ]
  },
  {
   "cell_type": "code",
   "execution_count": 2,
   "metadata": {},
   "outputs": [],
   "source": [
    "class MyKNeighborsClassifier(NeighborsBase, KNeighborsMixin, \n",
    "                             SupervisedIntegerMixin, ClassifierMixin):\n",
    "\n",
    "    def __init__(self, n_neighbors, algorithm = 'brute'):\n",
    "        self.n_neighbors = n_neighbors\n",
    "        self.algorithm = algorithm\n",
    "    \n",
    "    def fit(self, X, y):       \n",
    "\n",
    "        self.features = np.array(X, dtype=np.float32)\n",
    "        self.target = np.array(y, dtype=np.int)\n",
    "        self.classes = np.unique(self.target).size #число классов\n",
    "        \n",
    "        if (self.algorithm == 'kd_tree'):\n",
    "            self._tree = KDTree(X, leaf_size=30)\n",
    "            \n",
    "        return self\n",
    "    \n",
    "    def matrix_distance(self, X, Y):\n",
    "\n",
    "        x_dist = np.sum(X ** 2, axis=1).reshape(1, -1)\n",
    "        y_dist = np.sum(Y ** 2, axis=1).reshape(-1, 1)\n",
    "        dist = (x_dist - 2 * np.matmul(Y, X.T) + y_dist) \n",
    "        \n",
    "        return dist\n",
    "\n",
    "    def predict(self, X):\n",
    "        \n",
    "        result = np.zeros(X.shape[0])\n",
    "        \n",
    "        if (self.algorithm == 'brute'):\n",
    "           \n",
    "            m_distance = self.matrix_distance(self.features, X)        \n",
    "            n_index = np.argpartition(m_distance, self.n_neighbors) \\\n",
    "            [:, :self.n_neighbors]\n",
    "            n_classes = self.target[n_index]     \n",
    "\n",
    "            for index in range(X.shape[0]):\n",
    "                result[index] = Counter(n_classes[index]).most_common(1) \\\n",
    "                [0][0]\n",
    "\n",
    "            return result\n",
    "        \n",
    "        elif (self.algorithm == 'kd_tree'):\n",
    "            m_distance, n_index = self._tree.query(X, k=self.n_neighbors)\n",
    "            n_classes = self.target[n_index]     \n",
    "\n",
    "            for index in range(X.shape[0]):\n",
    "                result[index] = Counter(n_classes[index]).most_common(1) \\\n",
    "                [0][0]\n",
    "\n",
    "            return result\n",
    "    \n",
    "    def predict_proba_brute(self, X):       \n",
    "        m_distance = self.matrix_distance(self.features, X)\n",
    "        n_index = np.argpartition(m_distance, self.n_neighbors) \\\n",
    "        [:, :self.n_neighbors]\n",
    "        n_classes = self.target[n_index]\n",
    "\n",
    "        predict = np.zeros((X.shape[0], self.classes))\n",
    "\n",
    "        for index in range(n_classes.shape[0]):\n",
    "            c = Counter(n_classes[index])\n",
    "            for (cls, count) in c.items():\n",
    "                predict[index][cls] = count\n",
    "\n",
    "        return predict / self.n_neighbors\n",
    "        \n",
    "    def predict_proba_KDTree(self, X):\n",
    "        m_distance, n_index = self._tree.query(X, k=self.n_neighbors)\n",
    "        n_classes = self.target[n_index] \n",
    "\n",
    "        predict = np.zeros((X.shape[0], self.classes))\n",
    "\n",
    "        for index in range(n_classes.shape[0]):\n",
    "            c = Counter(n_classes[index])\n",
    "            for (cls, count) in c.items():\n",
    "                predict[index][cls] = count\n",
    "\n",
    "        return predict / self.n_neighbors\n",
    "    \n",
    "    def predict_proba(self, X):   \n",
    "        if (self.algorithm == 'brute'):\n",
    "            return self.predict_proba_brute(X)\n",
    "        elif (self.algorithm == 'kd_tree'):\n",
    "            return self.predict_proba_KDTree(X)\n",
    "           \n",
    "    \n",
    "    def score(self, X, y):\n",
    "        target = self.predict(X)\n",
    "        return float((target == y).sum() / y.shape[0])"
   ]
  },
  {
   "cell_type": "markdown",
   "metadata": {},
   "source": [
    "**IRIS**"
   ]
  },
  {
   "cell_type": "code",
   "execution_count": 3,
   "metadata": {},
   "outputs": [],
   "source": [
    "iris = datasets.load_iris()"
   ]
  },
  {
   "cell_type": "code",
   "execution_count": 4,
   "metadata": {},
   "outputs": [],
   "source": [
    "X_train, X_test, y_train, y_test = train_test_split(iris.data, iris.target, test_size=0.1, stratify=iris.target)"
   ]
  },
  {
   "cell_type": "code",
   "execution_count": 5,
   "metadata": {},
   "outputs": [],
   "source": [
    "clf = KNeighborsClassifier(n_neighbors=2, algorithm = 'brute')\n",
    "my_clf = MyKNeighborsClassifier(n_neighbors=2, algorithm = 'brute')"
   ]
  },
  {
   "cell_type": "code",
   "execution_count": 6,
   "metadata": {},
   "outputs": [
    {
     "name": "stdout",
     "output_type": "stream",
     "text": [
      "CPU times: user 1.68 ms, sys: 0 ns, total: 1.68 ms\n",
      "Wall time: 4.08 ms\n"
     ]
    },
    {
     "data": {
      "text/plain": [
       "KNeighborsClassifier(algorithm='brute', leaf_size=30, metric='minkowski',\n",
       "           metric_params=None, n_jobs=1, n_neighbors=2, p=2,\n",
       "           weights='uniform')"
      ]
     },
     "execution_count": 6,
     "metadata": {},
     "output_type": "execute_result"
    }
   ],
   "source": [
    "%time clf.fit(X_train, y_train)"
   ]
  },
  {
   "cell_type": "code",
   "execution_count": 7,
   "metadata": {},
   "outputs": [
    {
     "name": "stdout",
     "output_type": "stream",
     "text": [
      "CPU times: user 753 µs, sys: 70 µs, total: 823 µs\n",
      "Wall time: 1.15 ms\n"
     ]
    },
    {
     "data": {
      "text/plain": [
       "MyKNeighborsClassifier(algorithm='brute', n_neighbors=2)"
      ]
     },
     "execution_count": 7,
     "metadata": {},
     "output_type": "execute_result"
    }
   ],
   "source": [
    "%time my_clf.fit(X_train, y_train)"
   ]
  },
  {
   "cell_type": "code",
   "execution_count": 8,
   "metadata": {},
   "outputs": [
    {
     "name": "stdout",
     "output_type": "stream",
     "text": [
      "CPU times: user 4.15 ms, sys: 14 µs, total: 4.17 ms\n",
      "Wall time: 27.8 ms\n"
     ]
    },
    {
     "data": {
      "text/plain": [
       "array([1, 1, 2, 2, 1, 2, 1, 0, 2, 0, 2, 0, 0, 1, 0])"
      ]
     },
     "execution_count": 8,
     "metadata": {},
     "output_type": "execute_result"
    }
   ],
   "source": [
    "%time clf.predict(X_test)"
   ]
  },
  {
   "cell_type": "code",
   "execution_count": 9,
   "metadata": {},
   "outputs": [
    {
     "name": "stdout",
     "output_type": "stream",
     "text": [
      "CPU times: user 1.62 ms, sys: 148 µs, total: 1.77 ms\n",
      "Wall time: 2.28 ms\n"
     ]
    },
    {
     "data": {
      "text/plain": [
       "array([1., 1., 2., 2., 1., 2., 1., 0., 2., 0., 2., 0., 0., 1., 0.])"
      ]
     },
     "execution_count": 9,
     "metadata": {},
     "output_type": "execute_result"
    }
   ],
   "source": [
    "%time my_clf.predict(X_test)"
   ]
  },
  {
   "cell_type": "code",
   "execution_count": 10,
   "metadata": {},
   "outputs": [
    {
     "name": "stdout",
     "output_type": "stream",
     "text": [
      "CPU times: user 1.76 ms, sys: 163 µs, total: 1.93 ms\n",
      "Wall time: 9.55 ms\n"
     ]
    },
    {
     "data": {
      "text/plain": [
       "array([[0., 1., 0.],\n",
       "       [0., 1., 0.],\n",
       "       [0., 0., 1.],\n",
       "       [0., 0., 1.],\n",
       "       [0., 1., 0.],\n",
       "       [0., 0., 1.],\n",
       "       [0., 1., 0.],\n",
       "       [1., 0., 0.],\n",
       "       [0., 0., 1.],\n",
       "       [1., 0., 0.],\n",
       "       [0., 0., 1.],\n",
       "       [1., 0., 0.],\n",
       "       [1., 0., 0.],\n",
       "       [0., 1., 0.],\n",
       "       [1., 0., 0.]])"
      ]
     },
     "execution_count": 10,
     "metadata": {},
     "output_type": "execute_result"
    }
   ],
   "source": [
    "%time clf.predict_proba(X_test)"
   ]
  },
  {
   "cell_type": "code",
   "execution_count": 11,
   "metadata": {},
   "outputs": [
    {
     "name": "stdout",
     "output_type": "stream",
     "text": [
      "CPU times: user 0 ns, sys: 2.47 ms, total: 2.47 ms\n",
      "Wall time: 2.99 ms\n"
     ]
    },
    {
     "data": {
      "text/plain": [
       "array([[0., 1., 0.],\n",
       "       [0., 1., 0.],\n",
       "       [0., 0., 1.],\n",
       "       [0., 0., 1.],\n",
       "       [0., 1., 0.],\n",
       "       [0., 0., 1.],\n",
       "       [0., 1., 0.],\n",
       "       [1., 0., 0.],\n",
       "       [0., 0., 1.],\n",
       "       [1., 0., 0.],\n",
       "       [0., 0., 1.],\n",
       "       [1., 0., 0.],\n",
       "       [1., 0., 0.],\n",
       "       [0., 1., 0.],\n",
       "       [1., 0., 0.]])"
      ]
     },
     "execution_count": 11,
     "metadata": {},
     "output_type": "execute_result"
    }
   ],
   "source": [
    "%time my_clf.predict_proba(X_test)"
   ]
  },
  {
   "cell_type": "code",
   "execution_count": 12,
   "metadata": {},
   "outputs": [
    {
     "data": {
      "text/plain": [
       "1.0"
      ]
     },
     "execution_count": 12,
     "metadata": {},
     "output_type": "execute_result"
    }
   ],
   "source": [
    "clf.score(X_test, y_test)"
   ]
  },
  {
   "cell_type": "code",
   "execution_count": 13,
   "metadata": {},
   "outputs": [
    {
     "data": {
      "text/plain": [
       "1.0"
      ]
     },
     "execution_count": 13,
     "metadata": {},
     "output_type": "execute_result"
    }
   ],
   "source": [
    "my_clf.score(X_test, y_test)"
   ]
  },
  {
   "cell_type": "markdown",
   "metadata": {},
   "source": [
    "Задание 3"
   ]
  },
  {
   "cell_type": "code",
   "execution_count": 17,
   "metadata": {},
   "outputs": [
    {
     "data": {
      "image/png": "[encoded data removed]",
      "text/plain": [
       "<Figure size 1080x288 with 2 Axes>"
      ]
     },
     "metadata": {
      "needs_background": "light"
     },
     "output_type": "display_data"
    }
   ],
   "source": [
    "N = 40\n",
    "\n",
    "train_accuracy = np.zeros(N-1)\n",
    "test_accuracy = np.zeros(N-1)\n",
    "\n",
    "sklearn_train_accuracy = np.zeros(N-1)\n",
    "sklearn_test_accuracy = np.zeros(N-1)\n",
    "#прогонка KNN классификатора\n",
    "\n",
    "for ind in range(1, N):\n",
    "    my_clf = MyKNeighborsClassifier(n_neighbors=ind)\n",
    "    my_clf.fit(X_train, y_train)\n",
    "    train_accuracy[ind-1] = my_clf.score(X_test, y_test)\n",
    "    test_accuracy[ind-1] = my_clf.score(X_train, y_train)\n",
    "\n",
    "    clf = KNeighborsClassifier(n_neighbors=ind)\n",
    "    clf.fit(X_train, y_train)\n",
    "    sklearn_train_accuracy[ind-1] = clf.score(X_test, y_test)\n",
    "    sklearn_test_accuracy[ind-1] = clf.score(X_train, y_train)\n",
    "\n",
    "plt.subplot(1, 2, 1)\n",
    "\n",
    "plt.title(\"sklearn_KNN\")\n",
    "plt.plot(range(1,N), sklearn_test_accuracy, label=\"test\", color=\"red\")\n",
    "plt.plot(range(1,N), sklearn_train_accuracy, label=\"train\", color=\"blue\")\n",
    "plt.xlabel('Neighbors')\n",
    "plt.ylabel('Score')\n",
    "plt.legend()\n",
    "plt.grid(color=\"grey\")\n",
    "\n",
    "plt.subplot(1, 2, 2)\n",
    "plt.title(\"My_KNN\")\n",
    "plt.plot(range(1,N), test_accuracy, label=\"test\", color=\"red\")\n",
    "plt.plot(range(1,N), train_accuracy, label=\"train\", color=\"blue\")\n",
    "plt.xlabel('Neighbors')\n",
    "plt.ylabel('Score')\n",
    "plt.legend()\n",
    "plt.grid(color=\"grey\")\n",
    "\n",
    "fig = plt.gcf()\n",
    "fig.set_figwidth(15)\n",
    "plt.show()\n"
   ]
  },
  {
   "cell_type": "markdown",
   "metadata": {},
   "source": [
    "**MNIST**"
   ]
  },
  {
   "cell_type": "code",
   "execution_count": 18,
   "metadata": {},
   "outputs": [],
   "source": [
    "mnist = fetch_mldata('MNIST original')"
   ]
  },
  {
   "cell_type": "code",
   "execution_count": 19,
   "metadata": {},
   "outputs": [],
   "source": [
    "X_train, X_test, y_train, y_test = train_test_split(mnist.data, mnist.target, test_size=0.01, stratify=mnist.target)"
   ]
  },
  {
   "cell_type": "code",
   "execution_count": 20,
   "metadata": {},
   "outputs": [],
   "source": [
    "clf = KNeighborsClassifier(n_neighbors=2)\n",
    "my_clf = MyKNeighborsClassifier(n_neighbors=2)"
   ]
  },
  {
   "cell_type": "code",
   "execution_count": 21,
   "metadata": {},
   "outputs": [
    {
     "name": "stdout",
     "output_type": "stream",
     "text": [
      "CPU times: user 2min 11s, sys: 1.08 s, total: 2min 12s\n",
      "Wall time: 2min 17s\n"
     ]
    },
    {
     "data": {
      "text/plain": [
       "KNeighborsClassifier(algorithm='auto', leaf_size=30, metric='minkowski',\n",
       "           metric_params=None, n_jobs=1, n_neighbors=2, p=2,\n",
       "           weights='uniform')"
      ]
     },
     "execution_count": 21,
     "metadata": {},
     "output_type": "execute_result"
    }
   ],
   "source": [
    "%time clf.fit(X_train, y_train)"
   ]
  },
  {
   "cell_type": "code",
   "execution_count": 23,
   "metadata": {},
   "outputs": [
    {
     "name": "stdout",
     "output_type": "stream",
     "text": [
      "CPU times: user 90.1 ms, sys: 236 ms, total: 326 ms\n",
      "Wall time: 346 ms\n"
     ]
    },
    {
     "data": {
      "text/plain": [
       "MyKNeighborsClassifier(algorithm='brute', n_neighbors=2)"
      ]
     },
     "execution_count": 23,
     "metadata": {},
     "output_type": "execute_result"
    }
   ],
   "source": [
    "%time my_clf.fit(X_train, y_train)"
   ]
  },
  {
   "cell_type": "code",
   "execution_count": 24,
   "metadata": {},
   "outputs": [
    {
     "name": "stdout",
     "output_type": "stream",
     "text": [
      "CPU times: user 2min 54s, sys: 156 ms, total: 2min 54s\n",
      "Wall time: 3min\n"
     ]
    },
    {
     "data": {
      "text/plain": [
       "array([7., 5., 7., 6., 0., 0., 1., 7., 6., 3., 7., 3., 8., 3., 1., 6., 9.,\n",
       "       8., 5., 4., 2., 6., 9., 9., 0., 4., 7., 8., 3., 3., 5., 2., 4., 1.,\n",
       "       7., 9., 5., 4., 5., 7., 9., 5., 8., 8., 7., 1., 5., 1., 5., 7., 3.,\n",
       "       4., 7., 0., 0., 1., 0., 2., 7., 8., 4., 4., 3., 5., 6., 2., 0., 4.,\n",
       "       6., 0., 6., 1., 0., 3., 4., 9., 9., 3., 1., 0., 9., 0., 4., 2., 7.,\n",
       "       9., 0., 6., 4., 4., 6., 2., 4., 4., 6., 7., 1., 0., 8., 1., 2., 0.,\n",
       "       4., 0., 7., 7., 8., 2., 0., 1., 4., 4., 1., 3., 1., 8., 1., 1., 1.,\n",
       "       0., 4., 5., 2., 7., 8., 4., 2., 3., 6., 3., 0., 0., 0., 4., 1., 9.,\n",
       "       3., 3., 9., 3., 0., 3., 6., 2., 5., 6., 1., 5., 8., 8., 5., 2., 3.,\n",
       "       8., 9., 7., 6., 5., 5., 3., 8., 3., 1., 9., 2., 7., 1., 4., 4., 6.,\n",
       "       1., 5., 2., 4., 7., 6., 1., 6., 0., 5., 4., 1., 2., 5., 3., 6., 8.,\n",
       "       4., 5., 9., 3., 2., 1., 9., 0., 2., 7., 2., 2., 8., 7., 4., 2., 8.,\n",
       "       4., 5., 8., 4., 2., 7., 9., 2., 6., 7., 1., 2., 9., 2., 4., 2., 1.,\n",
       "       9., 7., 0., 9., 2., 7., 9., 2., 8., 8., 8., 3., 6., 4., 1., 3., 9.,\n",
       "       0., 9., 4., 3., 8., 3., 2., 1., 9., 9., 8., 3., 5., 5., 5., 7., 8.,\n",
       "       7., 3., 2., 3., 1., 2., 1., 2., 3., 7., 5., 1., 6., 3., 3., 4., 0.,\n",
       "       7., 7., 0., 2., 5., 8., 6., 3., 2., 8., 8., 8., 9., 5., 9., 0., 1.,\n",
       "       1., 2., 5., 1., 3., 8., 8., 4., 3., 3., 4., 6., 2., 7., 6., 9., 6.,\n",
       "       1., 5., 7., 5., 8., 0., 2., 1., 3., 4., 1., 0., 5., 6., 2., 0., 7.,\n",
       "       7., 5., 5., 9., 6., 4., 3., 4., 2., 4., 8., 0., 7., 5., 1., 2., 4.,\n",
       "       2., 0., 9., 3., 1., 0., 1., 6., 4., 9., 6., 0., 4., 0., 8., 1., 8.,\n",
       "       2., 1., 0., 0., 7., 1., 3., 7., 2., 6., 2., 1., 1., 3., 5., 6., 4.,\n",
       "       5., 7., 8., 7., 5., 5., 5., 7., 6., 8., 2., 3., 0., 1., 4., 2., 3.,\n",
       "       0., 1., 1., 4., 4., 4., 5., 5., 3., 2., 2., 8., 6., 4., 5., 7., 1.,\n",
       "       6., 9., 7., 9., 1., 9., 5., 4., 3., 3., 2., 8., 1., 3., 1., 9., 2.,\n",
       "       0., 6., 5., 7., 7., 4., 4., 4., 0., 3., 9., 7., 3., 9., 5., 4., 3.,\n",
       "       9., 9., 4., 1., 9., 4., 5., 7., 6., 4., 1., 6., 7., 9., 8., 1., 7.,\n",
       "       6., 0., 7., 1., 2., 9., 0., 7., 2., 5., 6., 3., 0., 4., 9., 8., 1.,\n",
       "       6., 7., 5., 0., 2., 1., 1., 0., 6., 6., 6., 4., 7., 3., 0., 9., 3.,\n",
       "       3., 9., 3., 7., 8., 0., 6., 3., 5., 3., 6., 9., 7., 7., 1., 7., 5.,\n",
       "       3., 9., 2., 7., 8., 6., 7., 7., 7., 1., 6., 5., 1., 0., 1., 9., 2.,\n",
       "       0., 2., 7., 0., 4., 3., 6., 6., 3., 9., 5., 0., 3., 4., 8., 7., 0.,\n",
       "       4., 2., 6., 1., 6., 8., 5., 0., 2., 3., 1., 0., 0., 0., 2., 7., 2.,\n",
       "       3., 0., 1., 9., 4., 3., 4., 7., 5., 1., 5., 6., 9., 7., 6., 6., 1.,\n",
       "       6., 8., 8., 0., 4., 0., 2., 9., 1., 3., 1., 5., 8., 3., 1., 1., 5.,\n",
       "       7., 9., 6., 3., 6., 1., 5., 9., 6., 8., 6., 0., 6., 1., 9., 0., 6.,\n",
       "       1., 5., 9., 3., 0., 1., 1., 4., 1., 4., 3., 3., 9., 5., 6., 8., 4.,\n",
       "       3., 4., 4., 0., 3., 5., 6., 2., 1., 0., 9., 3., 4., 6., 2., 0., 2.,\n",
       "       1., 7., 4., 1., 6., 4., 7., 7., 6., 6., 5., 7., 3., 8., 9., 0., 8.,\n",
       "       8., 3., 2., 7., 9., 9., 2., 8., 0., 6., 9., 2., 8., 9., 5., 4., 8.,\n",
       "       7., 7., 6., 0., 8., 1., 4., 8., 8., 7., 2., 9., 4., 0., 1., 2., 3.,\n",
       "       1., 7., 4.])"
      ]
     },
     "execution_count": 24,
     "metadata": {},
     "output_type": "execute_result"
    }
   ],
   "source": [
    "%time clf.predict(X_test)"
   ]
  },
  {
   "cell_type": "code",
   "execution_count": 25,
   "metadata": {},
   "outputs": [
    {
     "name": "stdout",
     "output_type": "stream",
     "text": [
      "CPU times: user 12.8 s, sys: 1.25 s, total: 14.1 s\n",
      "Wall time: 10.8 s\n"
     ]
    },
    {
     "data": {
      "text/plain": [
       "array([7., 5., 7., 6., 0., 0., 1., 7., 6., 3., 7., 3., 8., 3., 1., 6., 9.,\n",
       "       8., 5., 4., 2., 6., 9., 9., 0., 4., 7., 8., 3., 3., 5., 2., 4., 8.,\n",
       "       7., 9., 5., 4., 5., 7., 9., 5., 8., 8., 7., 1., 5., 1., 5., 7., 3.,\n",
       "       4., 7., 0., 0., 1., 0., 2., 7., 8., 4., 4., 3., 5., 6., 2., 0., 4.,\n",
       "       6., 0., 6., 1., 0., 3., 4., 9., 9., 3., 1., 0., 9., 0., 4., 2., 7.,\n",
       "       9., 0., 6., 4., 4., 6., 2., 4., 4., 6., 7., 1., 0., 8., 1., 2., 0.,\n",
       "       4., 0., 7., 7., 8., 2., 0., 1., 4., 4., 1., 3., 1., 8., 1., 1., 1.,\n",
       "       0., 4., 5., 2., 7., 8., 4., 2., 3., 6., 3., 0., 0., 0., 4., 1., 9.,\n",
       "       3., 3., 9., 3., 0., 3., 6., 2., 5., 6., 1., 5., 8., 8., 5., 2., 3.,\n",
       "       8., 9., 7., 8., 5., 5., 3., 8., 3., 1., 9., 2., 7., 1., 4., 4., 6.,\n",
       "       1., 5., 2., 4., 7., 6., 1., 6., 0., 5., 4., 1., 2., 8., 5., 6., 8.,\n",
       "       4., 5., 9., 3., 2., 1., 9., 0., 2., 7., 2., 2., 8., 7., 4., 2., 8.,\n",
       "       4., 5., 8., 4., 2., 7., 9., 2., 6., 7., 1., 2., 9., 2., 4., 2., 1.,\n",
       "       9., 7., 0., 9., 2., 7., 9., 2., 8., 8., 8., 3., 6., 4., 1., 4., 9.,\n",
       "       0., 9., 4., 3., 8., 3., 2., 1., 9., 9., 8., 3., 5., 5., 5., 7., 8.,\n",
       "       7., 3., 2., 3., 1., 2., 1., 2., 3., 7., 5., 1., 6., 3., 3., 4., 0.,\n",
       "       7., 7., 0., 2., 5., 8., 6., 3., 2., 8., 8., 8., 9., 5., 9., 0., 1.,\n",
       "       1., 2., 5., 1., 3., 8., 8., 4., 3., 3., 4., 6., 2., 7., 6., 9., 6.,\n",
       "       1., 5., 7., 5., 8., 0., 2., 1., 3., 4., 1., 0., 5., 6., 2., 0., 7.,\n",
       "       7., 5., 5., 9., 6., 4., 3., 4., 2., 4., 8., 0., 7., 5., 1., 2., 4.,\n",
       "       2., 0., 9., 3., 1., 0., 1., 6., 4., 9., 6., 0., 4., 0., 8., 1., 8.,\n",
       "       2., 1., 0., 0., 7., 1., 3., 7., 2., 6., 2., 1., 1., 3., 5., 6., 4.,\n",
       "       5., 7., 8., 7., 5., 5., 9., 7., 6., 8., 2., 3., 0., 1., 4., 2., 3.,\n",
       "       0., 1., 1., 4., 4., 4., 5., 5., 3., 2., 2., 8., 6., 4., 5., 7., 1.,\n",
       "       6., 9., 7., 9., 1., 9., 5., 9., 3., 3., 2., 8., 1., 3., 1., 9., 2.,\n",
       "       0., 6., 5., 7., 7., 4., 4., 4., 0., 3., 9., 7., 3., 9., 5., 4., 3.,\n",
       "       9., 9., 4., 1., 9., 4., 5., 7., 6., 4., 1., 6., 7., 9., 8., 1., 7.,\n",
       "       6., 0., 7., 1., 2., 9., 0., 7., 2., 5., 6., 3., 0., 4., 9., 8., 1.,\n",
       "       6., 7., 5., 0., 2., 1., 1., 0., 6., 6., 6., 4., 7., 3., 0., 9., 3.,\n",
       "       3., 9., 3., 7., 8., 0., 6., 3., 8., 3., 6., 9., 7., 7., 1., 7., 5.,\n",
       "       3., 9., 2., 7., 8., 6., 7., 7., 7., 1., 6., 5., 1., 0., 1., 9., 2.,\n",
       "       0., 2., 7., 0., 4., 8., 6., 6., 3., 9., 5., 0., 3., 4., 8., 9., 0.,\n",
       "       4., 2., 6., 1., 6., 8., 5., 0., 2., 3., 1., 0., 0., 0., 2., 7., 2.,\n",
       "       3., 0., 1., 9., 9., 3., 4., 7., 5., 1., 5., 6., 9., 7., 6., 6., 1.,\n",
       "       6., 8., 8., 0., 4., 0., 2., 9., 1., 8., 1., 5., 8., 3., 1., 1., 5.,\n",
       "       7., 9., 6., 3., 6., 1., 5., 9., 6., 8., 6., 0., 6., 1., 9., 0., 6.,\n",
       "       1., 5., 9., 3., 0., 1., 1., 4., 1., 4., 3., 3., 9., 9., 6., 8., 4.,\n",
       "       3., 4., 4., 0., 3., 5., 6., 2., 1., 6., 9., 3., 4., 6., 2., 0., 2.,\n",
       "       1., 7., 4., 1., 8., 4., 7., 7., 6., 6., 5., 7., 3., 8., 9., 0., 8.,\n",
       "       8., 3., 2., 7., 9., 9., 2., 8., 0., 6., 9., 2., 8., 9., 5., 4., 8.,\n",
       "       7., 7., 6., 0., 8., 1., 4., 8., 8., 7., 2., 9., 4., 0., 1., 2., 3.,\n",
       "       1., 7., 4.])"
      ]
     },
     "execution_count": 25,
     "metadata": {},
     "output_type": "execute_result"
    }
   ],
   "source": [
    "%time my_clf.predict(X_test)"
   ]
  },
  {
   "cell_type": "code",
   "execution_count": 26,
   "metadata": {},
   "outputs": [
    {
     "name": "stdout",
     "output_type": "stream",
     "text": [
      "CPU times: user 2min 55s, sys: 135 ms, total: 2min 55s\n",
      "Wall time: 2min 59s\n"
     ]
    },
    {
     "data": {
      "text/plain": [
       "array([[0., 0., 0., ..., 1., 0., 0.],\n",
       "       [0., 0., 0., ..., 0., 0., 0.],\n",
       "       [0., 0., 0., ..., 1., 0., 0.],\n",
       "       ...,\n",
       "       [0., 1., 0., ..., 0., 0., 0.],\n",
       "       [0., 0., 0., ..., 1., 0., 0.],\n",
       "       [0., 0., 0., ..., 0., 0., 0.]])"
      ]
     },
     "execution_count": 26,
     "metadata": {},
     "output_type": "execute_result"
    }
   ],
   "source": [
    "%time clf.predict_proba(X_test)"
   ]
  },
  {
   "cell_type": "code",
   "execution_count": 27,
   "metadata": {},
   "outputs": [
    {
     "name": "stdout",
     "output_type": "stream",
     "text": [
      "CPU times: user 12.6 s, sys: 1.21 s, total: 13.8 s\n",
      "Wall time: 8.64 s\n"
     ]
    },
    {
     "data": {
      "text/plain": [
       "array([[0., 0., 0., ..., 1., 0., 0.],\n",
       "       [0., 0., 0., ..., 0., 0., 0.],\n",
       "       [0., 0., 0., ..., 1., 0., 0.],\n",
       "       ...,\n",
       "       [0., 1., 0., ..., 0., 0., 0.],\n",
       "       [0., 0., 0., ..., 1., 0., 0.],\n",
       "       [0., 0., 0., ..., 0., 0., 0.]])"
      ]
     },
     "execution_count": 27,
     "metadata": {},
     "output_type": "execute_result"
    }
   ],
   "source": [
    "%time my_clf.predict_proba(X_test)"
   ]
  },
  {
   "cell_type": "code",
   "execution_count": 28,
   "metadata": {},
   "outputs": [
    {
     "data": {
      "text/plain": [
       "0.9542857142857143"
      ]
     },
     "execution_count": 28,
     "metadata": {},
     "output_type": "execute_result"
    }
   ],
   "source": [
    "clf.score(X_test, y_test)"
   ]
  },
  {
   "cell_type": "code",
   "execution_count": 29,
   "metadata": {},
   "outputs": [
    {
     "data": {
      "text/plain": [
       "0.9614285714285714"
      ]
     },
     "execution_count": 29,
     "metadata": {},
     "output_type": "execute_result"
    }
   ],
   "source": [
    "my_clf.score(X_test, y_test)"
   ]
  },
  {
   "cell_type": "markdown",
   "metadata": {},
   "source": [
    "Задание 4"
   ]
  },
  {
   "cell_type": "code",
   "execution_count": 30,
   "metadata": {},
   "outputs": [],
   "source": [
    "clf = KNeighborsClassifier(n_neighbors=4, algorithm='kd_tree')\n",
    "my_clf = MyKNeighborsClassifier(n_neighbors=4, algorithm='kd_tree')"
   ]
  },
  {
   "cell_type": "code",
   "execution_count": 31,
   "metadata": {},
   "outputs": [],
   "source": [
    "X_train, X_test, y_train, y_test = train_test_split(mnist.data, mnist.target, test_size=0.01, stratify=mnist.target)"
   ]
  },
  {
   "cell_type": "code",
   "execution_count": 32,
   "metadata": {},
   "outputs": [
    {
     "name": "stdout",
     "output_type": "stream",
     "text": [
      "CPU times: user 2min 9s, sys: 790 ms, total: 2min 9s\n",
      "Wall time: 2min 12s\n"
     ]
    },
    {
     "data": {
      "text/plain": [
       "KNeighborsClassifier(algorithm='kd_tree', leaf_size=30, metric='minkowski',\n",
       "           metric_params=None, n_jobs=1, n_neighbors=4, p=2,\n",
       "           weights='uniform')"
      ]
     },
     "execution_count": 32,
     "metadata": {},
     "output_type": "execute_result"
    }
   ],
   "source": [
    "%time clf.fit(X_train, y_train)"
   ]
  },
  {
   "cell_type": "code",
   "execution_count": 33,
   "metadata": {},
   "outputs": [
    {
     "name": "stdout",
     "output_type": "stream",
     "text": [
      "CPU times: user 2min 11s, sys: 2.14 s, total: 2min 13s\n",
      "Wall time: 2min 15s\n"
     ]
    },
    {
     "data": {
      "text/plain": [
       "MyKNeighborsClassifier(algorithm='kd_tree', n_neighbors=4)"
      ]
     },
     "execution_count": 33,
     "metadata": {},
     "output_type": "execute_result"
    }
   ],
   "source": [
    "%time my_clf.fit(X_train, y_train)"
   ]
  },
  {
   "cell_type": "code",
   "execution_count": 34,
   "metadata": {},
   "outputs": [
    {
     "name": "stdout",
     "output_type": "stream",
     "text": [
      "CPU times: user 2min 41s, sys: 82.8 ms, total: 2min 41s\n",
      "Wall time: 2min 42s\n"
     ]
    },
    {
     "data": {
      "text/plain": [
       "array([9., 8., 2., 8., 3., 9., 6., 9., 8., 8., 7., 2., 6., 2., 9., 4., 7.,\n",
       "       8., 6., 8., 1., 6., 6., 8., 4., 3., 3., 3., 7., 5., 7., 0., 3., 1.,\n",
       "       0., 7., 7., 2., 0., 0., 4., 6., 4., 5., 8., 5., 4., 2., 9., 8., 2.,\n",
       "       4., 6., 0., 9., 8., 6., 8., 1., 5., 5., 1., 4., 3., 6., 7., 1., 4.,\n",
       "       5., 2., 5., 3., 1., 5., 9., 6., 5., 9., 0., 3., 7., 4., 1., 0., 1.,\n",
       "       6., 7., 6., 0., 4., 9., 6., 5., 6., 5., 3., 3., 9., 3., 7., 4., 2.,\n",
       "       0., 2., 7., 5., 9., 8., 4., 7., 4., 1., 2., 8., 8., 1., 7., 8., 3.,\n",
       "       7., 8., 1., 1., 4., 1., 3., 0., 7., 5., 0., 9., 4., 0., 1., 5., 6.,\n",
       "       9., 8., 0., 9., 1., 0., 5., 7., 4., 7., 9., 9., 9., 9., 1., 5., 5.,\n",
       "       9., 4., 5., 7., 8., 6., 9., 9., 7., 0., 2., 9., 2., 1., 3., 7., 3.,\n",
       "       1., 6., 2., 0., 4., 0., 0., 1., 2., 2., 8., 5., 1., 6., 6., 5., 8.,\n",
       "       9., 3., 7., 0., 3., 7., 2., 4., 7., 3., 0., 1., 6., 8., 9., 2., 5.,\n",
       "       7., 0., 4., 2., 1., 7., 0., 7., 9., 0., 1., 3., 4., 5., 7., 8., 9.,\n",
       "       9., 4., 6., 9., 9., 2., 9., 9., 0., 2., 6., 5., 3., 8., 7., 2., 6.,\n",
       "       2., 9., 1., 1., 5., 6., 1., 9., 1., 2., 1., 6., 3., 8., 1., 1., 1.,\n",
       "       8., 5., 8., 2., 1., 3., 0., 8., 0., 3., 3., 5., 2., 4., 8., 2., 2.,\n",
       "       9., 3., 0., 5., 9., 6., 4., 8., 3., 7., 4., 2., 2., 9., 1., 5., 9.,\n",
       "       4., 8., 0., 5., 7., 3., 0., 6., 3., 7., 1., 6., 9., 6., 4., 7., 2.,\n",
       "       0., 7., 3., 6., 4., 5., 1., 9., 1., 8., 8., 3., 6., 1., 6., 5., 3.,\n",
       "       6., 9., 6., 5., 7., 7., 1., 0., 1., 0., 0., 3., 2., 3., 1., 2., 0.,\n",
       "       2., 5., 0., 5., 2., 3., 3., 2., 8., 7., 9., 5., 6., 7., 8., 6., 7.,\n",
       "       9., 0., 9., 8., 1., 1., 9., 7., 2., 8., 4., 5., 3., 8., 3., 7., 0.,\n",
       "       0., 1., 8., 4., 3., 4., 2., 3., 5., 7., 7., 7., 2., 6., 9., 8., 8.,\n",
       "       0., 7., 8., 7., 5., 4., 3., 8., 9., 4., 1., 1., 6., 2., 4., 9., 4.,\n",
       "       9., 3., 8., 7., 3., 0., 9., 6., 2., 1., 2., 4., 6., 4., 7., 9., 3.,\n",
       "       9., 6., 2., 4., 0., 4., 6., 6., 6., 3., 8., 9., 2., 7., 6., 0., 2.,\n",
       "       8., 1., 3., 5., 4., 5., 0., 0., 3., 1., 1., 3., 6., 8., 0., 6., 5.,\n",
       "       4., 2., 5., 5., 6., 9., 5., 5., 2., 5., 5., 0., 2., 2., 4., 8., 4.,\n",
       "       2., 5., 8., 3., 7., 7., 5., 2., 7., 1., 6., 3., 6., 8., 0., 2., 0.,\n",
       "       2., 6., 6., 2., 7., 3., 7., 0., 6., 2., 7., 2., 7., 5., 7., 4., 5.,\n",
       "       1., 0., 7., 1., 9., 1., 1., 1., 7., 6., 0., 2., 8., 3., 5., 6., 7.,\n",
       "       5., 8., 0., 8., 7., 3., 6., 9., 9., 4., 2., 1., 0., 9., 2., 6., 3.,\n",
       "       1., 5., 2., 4., 4., 4., 1., 8., 1., 9., 8., 2., 4., 8., 9., 0., 1.,\n",
       "       1., 3., 4., 4., 0., 4., 9., 7., 8., 6., 8., 9., 8., 4., 1., 5., 0.,\n",
       "       7., 2., 3., 3., 7., 1., 1., 5., 5., 3., 4., 0., 5., 6., 6., 3., 1.,\n",
       "       6., 1., 4., 3., 4., 9., 6., 0., 5., 6., 7., 1., 2., 1., 3., 3., 3.,\n",
       "       7., 1., 7., 9., 3., 6., 8., 1., 9., 5., 2., 0., 6., 4., 9., 1., 1.,\n",
       "       1., 2., 0., 9., 0., 7., 3., 0., 8., 8., 8., 0., 5., 0., 1., 0., 6.,\n",
       "       4., 1., 7., 4., 7., 2., 2., 2., 0., 2., 1., 1., 4., 9., 9., 5., 3.,\n",
       "       2., 0., 7., 4., 4., 0., 9., 1., 1., 0., 1., 2., 1., 9., 4., 0., 7.,\n",
       "       9., 4., 6., 2., 9., 5., 6., 3., 4., 4., 3., 4., 5., 3., 5., 6., 7.,\n",
       "       8., 5., 0.])"
      ]
     },
     "execution_count": 34,
     "metadata": {},
     "output_type": "execute_result"
    }
   ],
   "source": [
    "%time clf.predict(X_test)"
   ]
  },
  {
   "cell_type": "code",
   "execution_count": 35,
   "metadata": {},
   "outputs": [
    {
     "name": "stdout",
     "output_type": "stream",
     "text": [
      "CPU times: user 2min 53s, sys: 602 ms, total: 2min 53s\n",
      "Wall time: 2min 59s\n"
     ]
    },
    {
     "data": {
      "text/plain": [
       "array([9., 8., 2., 8., 3., 9., 6., 9., 8., 8., 7., 2., 6., 2., 9., 4., 7.,\n",
       "       8., 6., 8., 1., 6., 6., 8., 4., 3., 3., 3., 7., 5., 7., 0., 3., 1.,\n",
       "       0., 7., 7., 2., 0., 9., 4., 6., 4., 5., 8., 5., 4., 2., 9., 8., 2.,\n",
       "       4., 6., 0., 9., 8., 6., 8., 1., 5., 5., 1., 4., 3., 6., 7., 1., 4.,\n",
       "       5., 2., 5., 3., 1., 5., 9., 6., 5., 9., 0., 3., 7., 4., 1., 0., 1.,\n",
       "       6., 7., 6., 0., 4., 9., 6., 5., 6., 5., 3., 3., 9., 3., 7., 4., 2.,\n",
       "       0., 2., 7., 5., 9., 8., 4., 7., 4., 1., 2., 8., 8., 1., 7., 8., 3.,\n",
       "       7., 8., 1., 1., 4., 1., 3., 0., 7., 5., 0., 9., 4., 0., 1., 5., 6.,\n",
       "       9., 8., 0., 9., 1., 0., 5., 7., 4., 9., 9., 9., 9., 9., 1., 5., 5.,\n",
       "       9., 4., 5., 7., 8., 6., 9., 9., 7., 0., 2., 9., 2., 1., 3., 7., 3.,\n",
       "       1., 6., 2., 0., 4., 0., 0., 1., 2., 2., 8., 5., 1., 6., 6., 5., 8.,\n",
       "       9., 3., 7., 0., 3., 7., 2., 4., 7., 3., 0., 1., 6., 8., 9., 2., 5.,\n",
       "       7., 0., 4., 2., 1., 7., 0., 7., 9., 0., 1., 3., 4., 5., 7., 8., 9.,\n",
       "       9., 4., 6., 9., 9., 2., 9., 9., 0., 2., 6., 5., 3., 8., 7., 2., 6.,\n",
       "       2., 9., 1., 1., 5., 6., 1., 9., 1., 2., 1., 6., 3., 8., 1., 1., 1.,\n",
       "       8., 5., 8., 2., 1., 3., 0., 8., 0., 3., 3., 5., 2., 4., 8., 2., 2.,\n",
       "       9., 3., 0., 5., 9., 6., 4., 8., 3., 7., 4., 2., 2., 9., 1., 5., 9.,\n",
       "       4., 8., 0., 5., 7., 3., 0., 6., 3., 7., 1., 6., 9., 6., 4., 7., 2.,\n",
       "       0., 7., 3., 6., 4., 5., 1., 9., 1., 8., 8., 3., 6., 1., 6., 5., 3.,\n",
       "       6., 9., 6., 5., 7., 7., 1., 0., 1., 0., 0., 3., 2., 3., 1., 2., 0.,\n",
       "       2., 5., 0., 5., 2., 3., 3., 2., 8., 7., 9., 5., 6., 7., 8., 6., 7.,\n",
       "       9., 0., 9., 8., 1., 1., 9., 7., 2., 8., 4., 5., 3., 8., 3., 7., 0.,\n",
       "       0., 1., 8., 4., 3., 4., 2., 3., 5., 7., 7., 7., 2., 6., 9., 8., 8.,\n",
       "       0., 7., 8., 7., 5., 4., 3., 8., 9., 4., 1., 1., 6., 2., 4., 9., 4.,\n",
       "       9., 3., 8., 7., 3., 0., 9., 6., 2., 1., 2., 4., 6., 4., 7., 9., 3.,\n",
       "       9., 6., 2., 4., 0., 4., 6., 6., 6., 3., 8., 9., 2., 7., 6., 0., 2.,\n",
       "       8., 1., 3., 5., 4., 5., 0., 0., 3., 1., 1., 3., 6., 8., 0., 6., 5.,\n",
       "       4., 2., 5., 5., 6., 9., 5., 5., 2., 5., 5., 0., 2., 2., 4., 8., 4.,\n",
       "       2., 5., 8., 3., 7., 7., 5., 2., 7., 1., 6., 3., 6., 8., 0., 2., 0.,\n",
       "       2., 6., 6., 2., 7., 3., 7., 0., 6., 2., 7., 2., 7., 5., 7., 4., 5.,\n",
       "       1., 0., 7., 1., 9., 1., 1., 1., 7., 6., 0., 2., 8., 3., 5., 6., 7.,\n",
       "       5., 8., 0., 8., 7., 3., 6., 9., 9., 4., 2., 1., 0., 9., 2., 6., 3.,\n",
       "       1., 5., 2., 4., 4., 4., 1., 8., 1., 9., 8., 2., 4., 8., 9., 0., 1.,\n",
       "       1., 3., 4., 4., 0., 4., 9., 7., 8., 6., 8., 9., 8., 4., 1., 5., 0.,\n",
       "       7., 2., 3., 3., 7., 1., 1., 5., 5., 3., 4., 0., 5., 6., 6., 3., 1.,\n",
       "       6., 1., 4., 3., 4., 9., 6., 0., 5., 6., 7., 1., 2., 1., 3., 3., 3.,\n",
       "       7., 1., 7., 9., 3., 6., 8., 1., 9., 5., 2., 0., 6., 4., 9., 1., 1.,\n",
       "       1., 2., 0., 9., 0., 7., 3., 0., 8., 8., 8., 0., 5., 0., 1., 0., 6.,\n",
       "       4., 1., 7., 4., 7., 2., 2., 2., 0., 2., 1., 1., 4., 9., 9., 5., 3.,\n",
       "       2., 0., 7., 4., 4., 0., 9., 1., 1., 0., 1., 2., 1., 9., 4., 0., 7.,\n",
       "       9., 4., 6., 2., 9., 5., 6., 3., 4., 4., 3., 4., 5., 3., 5., 6., 7.,\n",
       "       8., 5., 0.])"
      ]
     },
     "execution_count": 35,
     "metadata": {},
     "output_type": "execute_result"
    }
   ],
   "source": [
    "%time my_clf.predict(X_test)"
   ]
  },
  {
   "cell_type": "code",
   "execution_count": 36,
   "metadata": {},
   "outputs": [
    {
     "name": "stdout",
     "output_type": "stream",
     "text": [
      "CPU times: user 2min 43s, sys: 89.4 ms, total: 2min 43s\n",
      "Wall time: 2min 45s\n"
     ]
    },
    {
     "data": {
      "text/plain": [
       "array([[0., 0., 0., ..., 0., 0., 1.],\n",
       "       [0., 0., 0., ..., 0., 1., 0.],\n",
       "       [0., 0., 1., ..., 0., 0., 0.],\n",
       "       ...,\n",
       "       [0., 0., 0., ..., 0., 1., 0.],\n",
       "       [0., 0., 0., ..., 0., 0., 0.],\n",
       "       [1., 0., 0., ..., 0., 0., 0.]])"
      ]
     },
     "execution_count": 36,
     "metadata": {},
     "output_type": "execute_result"
    }
   ],
   "source": [
    "%time clf.predict_proba(X_test)"
   ]
  },
  {
   "cell_type": "code",
   "execution_count": 37,
   "metadata": {},
   "outputs": [
    {
     "name": "stdout",
     "output_type": "stream",
     "text": [
      "CPU times: user 2min 45s, sys: 144 ms, total: 2min 45s\n",
      "Wall time: 2min 47s\n"
     ]
    },
    {
     "data": {
      "text/plain": [
       "array([[0., 0., 0., ..., 0., 0., 1.],\n",
       "       [0., 0., 0., ..., 0., 1., 0.],\n",
       "       [0., 0., 1., ..., 0., 0., 0.],\n",
       "       ...,\n",
       "       [0., 0., 0., ..., 0., 1., 0.],\n",
       "       [0., 0., 0., ..., 0., 0., 0.],\n",
       "       [1., 0., 0., ..., 0., 0., 0.]])"
      ]
     },
     "execution_count": 37,
     "metadata": {},
     "output_type": "execute_result"
    }
   ],
   "source": [
    "%time my_clf.predict_proba(X_test)"
   ]
  },
  {
   "cell_type": "code",
   "execution_count": 38,
   "metadata": {},
   "outputs": [
    {
     "data": {
      "text/plain": [
       "0.9771428571428571"
      ]
     },
     "execution_count": 38,
     "metadata": {},
     "output_type": "execute_result"
    }
   ],
   "source": [
    "clf.score(X_test, y_test)"
   ]
  },
  {
   "cell_type": "code",
   "execution_count": 39,
   "metadata": {},
   "outputs": [
    {
     "data": {
      "text/plain": [
       "0.9771428571428571"
      ]
     },
     "execution_count": 39,
     "metadata": {},
     "output_type": "execute_result"
    }
   ],
   "source": [
    "my_clf.score(X_test, y_test)"
   ]
  },
  {
   "cell_type": "markdown",
   "metadata": {},
   "source": [
    "Задание 5"
   ]
  },
  {
   "cell_type": "markdown",
   "metadata": {},
   "source": [
    "seaborn - библиотека для визуализации статистических данных основанная на matplotlib. \n",
    "Есть встроенные функции для визуализации распределения данных, линейных регрессионных моделей, временных рядов.\n",
    "\n",
    "matplotlib - библиотека для визуализации данных, построения графиков.\n",
    "\n",
    "train_test_split - функция, которая разделяет данные на две части: для тестирования и для тренировки. \n",
    "По умолчанию данные перед разделением перемешиваются.\n",
    "\n",
    "Pipelin %load_exte (from sklearn.pipeline import Pipeline) - конвеер, который инкапсулирует \n",
    "последовательность преобразований данных, а затем выполняющий их последовательно.\n",
    "\n",
    "StandardScaler (from sklearn.preprocessing import StandardScaler) - класс, который нужен, чтобы \n",
    "стандартизировать данные,(вычесть математическое ожидание и поделить на дисперсию).\n",
    "\n",
    "ClassifierMixin - класс от которого наследуются все классификаторы в sklearn,\n",
    "у него есть метод score для оценки результатов.\n",
    "\n",
    "NeighborsBase - базовый класс KNeighbors.\n",
    "\n",
    "KNeighborsMixin - класс, необходимый для поиска К ближайших соседей данной точки. \n",
    "kneighbors функция, которая ищет ближайших соседей возвращает расстояния и индексы.\n",
    "\n",
    "SupervisedIntegerMixin - класс, где реализован метод fit."
   ]
  }
 ],
 "metadata": {
  "kernelspec": {
   "display_name": "Python 3",
   "language": "python",
   "name": "python3"
  },
  "language_info": {
   "codemirror_mode": {
    "name": "ipython",
    "version": 3
   },
   "file_extension": ".py",
   "mimetype": "text/x-python",
   "name": "python",
   "nbconvert_exporter": "python",
   "pygments_lexer": "ipython3",
   "version": "3.7.0"
  }
 },
 "nbformat": 4,
 "nbformat_minor": 2
}
