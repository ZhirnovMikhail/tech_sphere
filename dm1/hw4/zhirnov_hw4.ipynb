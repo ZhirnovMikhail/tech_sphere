{
 "cells": [
  {
   "cell_type": "markdown",
   "metadata": {},
   "source": [
    "# Алгоритмы интеллектуальной обработки больших объемов данных\n",
    "## Домашнее задание №4 - Метод k-средних, предобработка признаков\n"
   ]
  },
  {
   "cell_type": "markdown",
   "metadata": {},
   "source": [
    "###### <hr\\>\n",
    "**Общая информация**\n",
    "\n",
    "**Срок сдачи:** 28 ноября 2018, 06:00 <br\\>\n",
    "**Штраф за опоздание:** -2 балла после 06:00 28 ноября, -4 балла после 06:00 5 декабря, -6 баллов после 06:00 12 декабря, -8 баллов после 19 декабря\n",
    "\n",
    "При отправлении ДЗ указывайте фамилию в названии файла\n",
    "Присылать ДЗ необходимо в виде ссылки на свой github репозиторий в slack @alkhamush\n",
    "\n",
    "Необходимо в slack создать таск в приватный чат:\n",
    "/todo Фамилия Имя ссылка на гитхаб @alkhamush\n",
    "Пример:\n",
    "/todo Ксения Стройкова https://github.com/stroykova/spheremailru/stroykova_hw1.ipynb @alkhamush\n",
    "Дополнительно нужно просто скинуть ссылку в slack в личный чат\n",
    "\n",
    "Используйте данный Ipython Notebook при оформлении домашнего задания."
   ]
  },
  {
   "cell_type": "markdown",
   "metadata": {},
   "source": [
    "# Имплементация K-means\n",
    "\n",
    "Пользуясь наработками выше, имплементируйте метод k-means.  \n",
    "При инициализации необходимо задавать количество кластеров, функцию расстояния между кластерами (для оригинального k-means - евклидово расстояние) и начальное состояние генератора случайных чисел.\n",
    "\n",
    "После обучения, среди атрибутов класса `Kmeans` должны появится\n",
    "* Метки кластеров для объектов\n",
    "* Координаты центройдов кластеров\n",
    "\n",
    "k-means - это алгоритм **кластеризации**, а не классификации, а посему метод `.predict()` в нем фактически не нужен, но он может возвращать метки ближайшего кластера для объектов."
   ]
  },
  {
   "cell_type": "markdown",
   "metadata": {},
   "source": [
    "###### Задание 1 (2 баллов)\n",
    "Имплементируйте метод k-means. Задание считается выполненным, если Ваша реализация работает быстрее реализации из sklearn.\n",
    "\n",
    "Теория для выполнения задания 2 и 3 остаётся на самостоятельное изучение. Теории немного и она совсем простая.\n",
    "\n",
    "###### Задание 2 (2 балла)\n",
    "Имплементируйте класс MiniBatchKMeans, который является классом наследником Kmeans.\n",
    "\n",
    "###### Задание 3 (2 балла)\n",
    "Превратите k-means в k-means++. Для этого нужно реализовать метод в классе Kmeans, который будет инициализировать более \"хорошие\" значения центроидов. Чтобы использовался метод k-means++, в параметр init необходимо передать строковое значение 'k-means' (по умолчанию 'random').\n",
    "\n",
    "###### Задание 4 (2 балла)\n",
    "В пункте \"Проверка корректности метода\" нужно нарисовать графики, которые показывают зависимость времени выполнения алгоритма от количества сэмплов. Графики должны быть  нарисованы для различных комбинаций реализаций алгоритма (k-means, k-means++, k-means с MiniBatchKMeans, k-means++ с MiniBatchKMeans). График достаточно построить на 5-10 точках.\n",
    "\n",
    "###### Задание 5 (2 балла)\n",
    "В пункте \"Применение K-means на реальных данных\" нужно сравнить различные реализации k-means (k-means, k-means++, k-means с MiniBatchKMeans, k-means++ с MiniBatchKMeans). После чего написать вывод, в котором должно быть объяснение того, почему один алгоритм оказался лучше остальных или почему не было выявлено лучшего алгоритма.\n",
    "\n",
    "**Штрафные баллы:**\n",
    "\n",
    "1. Невыполнение PEP8 -1 балл\n",
    "2. Отсутствие фамилии в имени скрипта (скрипт должен называться по аналогии со stroykova_hw4.ipynb) -1 балл\n",
    "3. Все строчки должны быть выполнены. Нужно, чтобы output команды можно было увидеть уже в git'е. В противном случае -1 балл\n",
    "4. При оформлении ДЗ нужно пользоваться данным файлом в качестве шаблона. Не нужно удалять и видоизменять написанный код и текст. В противном случае -1 балл\n",
    "<hr\\>"
   ]
  },
  {
   "cell_type": "code",
   "execution_count": 1,
   "metadata": {},
   "outputs": [],
   "source": [
    "import pandas as pd\n",
    "import numpy as np\n",
    "import matplotlib.pyplot as plt\n",
    "import timeit, functools\n",
    "from math import ceil\n",
    "\n",
    "%matplotlib inline\n",
    "\n",
    "plt.style.use('ggplot')\n",
    "plt.rcParams['figure.figsize'] = (12,5)\n",
    "\n",
    "%load_ext pycodestyle_magic"
   ]
  },
  {
   "cell_type": "code",
   "execution_count": 2,
   "metadata": {},
   "outputs": [],
   "source": [
    "#%%pycodestyle\n",
    "\n",
    "\n",
    "def Distance(X, Y):\n",
    "\n",
    "    X_sum = (X ** 2).sum(axis=1).reshape(-1, 1).astype(np.float64)\n",
    "    Y_sum = (Y ** 2).sum(axis=1).reshape(1, -1).astype(np.float64)\n",
    "    XY = X.dot(Y.T).astype(np.float64)\n",
    "\n",
    "    return X_sum - 2*XY + Y_sum"
   ]
  },
  {
   "cell_type": "code",
   "execution_count": 3,
   "metadata": {},
   "outputs": [],
   "source": [
    "#%%pycodestyle\n",
    "\n",
    "\n",
    "class MyKmeans:\n",
    "    def __init__(self, k=2, metric='euclidean', max_iter=1000,\n",
    "                 random_state=None, init='random', epsilon=1e-02):\n",
    "        '''\n",
    "        Инициализация метода\n",
    "        :k - количество кластеров\n",
    "        :metric - функция расстояния между объектами\n",
    "        :max_iter - максиальное количество итераций\n",
    "        :random_state - seed для инициализации генератора случайных чисел\n",
    "        '''\n",
    "\n",
    "        self.k = k\n",
    "        self.init = init\n",
    "        self.random_state = random_state\n",
    "        self.metric = metric\n",
    "        self.max_iter = max_iter\n",
    "        self.centroids = np.empty(1)\n",
    "        self.epsilon = epsilon\n",
    "        self.loss = epsilon + 1\n",
    "        self.iteration = 0\n",
    "\n",
    "    def init_centroids(self, X):\n",
    "        '''\n",
    "        Инициализация начального располодежия центроидов\n",
    "        Алгоритм KMeans++\n",
    "        '''\n",
    "\n",
    "        if self.init == 'random':\n",
    "            self.centroids = X[np.random.choice(X.shape[0],\n",
    "                               size=self.k, replace=False)]\n",
    "        elif self.init == 'k-means++':\n",
    "            # Иницализация пустыми значениями (задаём размер)\n",
    "            self.centroids = np.empty((self.k, X.shape[1]))\n",
    "\n",
    "            # Начальный центроид выбирается случайно среди всех элеметов\n",
    "            self.centroids[0] = X[np.random.randint(X.shape[0])]\n",
    "\n",
    "            # Остальные центроиды выбривются из элеметов так, что\n",
    "            # Вероятность выбора точки пропорциональна квадрату расстояния до\n",
    "            # Ближайшего цетроида\n",
    "            for i in range(1, self.k):\n",
    "                nearest_distance = np.min(Distance(X, self.centroids[:i]),\n",
    "                                          axis=1)\n",
    "                probability = (nearest_distance /\n",
    "                               (np.sum(nearest_distance).astype(np.float64)))\n",
    "                probability[probability < 0] = 0\n",
    "                self.centroids[i] = X[np.random.choice(X.shape[0],\n",
    "                                                       p=probability)]\n",
    "        else:\n",
    "            raise 'Wrong init parametr'\n",
    "\n",
    "    def update_centroids(self, X, labels, previous_centroids):\n",
    "        '''\n",
    "        Пересчёт коорднат цетроидов\n",
    "        '''\n",
    "\n",
    "        previous_centroids = np.array(previous_centroids)\n",
    "\n",
    "        # Для новое значение цетроида вычисляется как среднее\n",
    "        # По элеметам принадлежащим данному классу на текущем этапе\n",
    "        for i in range(self.k):\n",
    "            if (labels == i).sum() > 1e-5:\n",
    "                self.centroids[i] = X[labels == i].sum(axis=0)\n",
    "                self.centroids[i] /= (X[labels == i].shape[0])\n",
    "\n",
    "        # Считаем функцию потерь как сумму\n",
    "        # Изменение квадратов расстояний центроидов\n",
    "        return ((previous_centroids - self.centroids) ** 2).sum()\n",
    "\n",
    "    def fit(self, X, y=None):\n",
    "        '''\n",
    "        Процедура обучения k-means\n",
    "        '''\n",
    "\n",
    "        # Инициализация генератора случайных чисел\n",
    "        np.random.seed(self.random_state)\n",
    "\n",
    "        # Массив с метками кластеров для каждого объекта из X\n",
    "        self.labels = np.empty(X.shape[0])\n",
    "\n",
    "        # Массив с центройдами кластеров\n",
    "        self.init_centroids(X)\n",
    "\n",
    "        while (self.loss > self.epsilon) and (self.iteration < self.max_iter):\n",
    "\n",
    "            # Присваивание элемету его класс в\n",
    "            # зависимости от расположения центроидов\n",
    "            self.labels = np.argmin(Distance(X, self.centroids), axis=1)\n",
    "\n",
    "            # Обновление координат центроидов\n",
    "            self.loss = self.update_centroids(X, self.labels, self.centroids)\n",
    "\n",
    "            self.iteration += 1\n",
    "\n",
    "        return self\n",
    "\n",
    "    def predict(self, X, y=None):\n",
    "        \"\"\"\n",
    "        Процедура предсказания кластера\n",
    "        Возвращает метку ближайшего кластера для каждого объекта\n",
    "        \"\"\"\n",
    "\n",
    "        return np.argmin(Distance(X, self.centroids), axis=1)\n"
   ]
  },
  {
   "cell_type": "code",
   "execution_count": 4,
   "metadata": {},
   "outputs": [],
   "source": [
    "#%%pycodestyle\n",
    "\n",
    "\n",
    "class MiniBatchMyKmeans(MyKmeans):\n",
    "\n",
    "    def __init__(self, batch_size=32, k=2, metric='euclidean', max_iter=1000,\n",
    "                 random_state=None, init='random', epsilon=1e-02):\n",
    "\n",
    "        # Вызываем \"конструктор\" базового класса\n",
    "        super(MiniBatchMyKmeans, self).__init__(k=k, metric=metric,\n",
    "                                              max_iter=max_iter,\n",
    "                                              random_state=random_state,\n",
    "                                              init=init, epsilon=epsilon)\n",
    "        self.batch_size = batch_size\n",
    "        self.batches = []\n",
    "\n",
    "    def init_batches(self, X):\n",
    "        '''\n",
    "        Разделить данные на части примерно равных размеров self.batch_size\n",
    "        '''\n",
    "\n",
    "        # Перемешиваем индексы\n",
    "        random_idx = np.random.choice(X.shape[0], size=X.shape[0],\n",
    "                                      replace=False)\n",
    "\n",
    "        # Разделяем перемешанные индексы на части\n",
    "        for i in range(0, X.shape[0], self.batch_size):\n",
    "            batch = random_idx[i: i + self.batch_size]\n",
    "            self.batches.append(batch)\n",
    "\n",
    "        # Последняя часть будет меньшего размера\n",
    "        if (float(X.shape[0]) / self.batch_size > 1e-10):\n",
    "            batch = random_idx[int(X.shape[0] /\n",
    "                               self.batch_size) * self.batch_size:]\n",
    "            self.batches.append(batch)\n",
    "\n",
    "    def fit(self, X):\n",
    "        \"\"\"\n",
    "        Процедура обучения k-means\n",
    "        \"\"\"\n",
    "\n",
    "        # Инициализация генератора случайных чисел\n",
    "        np.random.seed(self.random_state)\n",
    "\n",
    "        # Массив с метками кластеров для каждого объекта из X\n",
    "        self.labels = np.empty(X.shape[0])\n",
    "\n",
    "        # Массив с центройдами кластеров\n",
    "        self.init_centroids(X)\n",
    "\n",
    "        # Разбиваем данные на части\n",
    "        self.init_batches(X)\n",
    "\n",
    "        # Количество батчей\n",
    "        batch_count = ceil(float(X.shape[0]) / self.batch_size)\n",
    "\n",
    "        while (self.loss > self.epsilon) and (self.iteration < self.max_iter):\n",
    "\n",
    "            # Присваивание элемету его класс в\n",
    "            # зависимости от расположения центроидов\n",
    "            self.labels = np.argmin(Distance(X, self.centroids), axis=1)\n",
    "\n",
    "            elements = self.batches[int(self.iteration % batch_count)]\n",
    "\n",
    "            # Обновление координат центроидов\n",
    "            self.loss = self.update_centroids(X[elements],\n",
    "                                              self.labels[elements],\n",
    "                                              self.centroids)\n",
    "            self.iteration += 1\n",
    "\n",
    "        return self\n"
   ]
  },
  {
   "cell_type": "markdown",
   "metadata": {},
   "source": [
    "### Проверка корректности метода\n",
    "\n",
    "Перед тем как применять алгоритм на реальных данных, нужно испытать его на простых \"игрушечных\" данных.\n",
    "\n",
    "Если алгоритм реализован правильно, то метод должен идеально разбивать на 3 кластера данные ниже. Проверьте это.\n",
    "\n",
    "ВНИМАНИЕ! Проверка должна быть осуществлена на всех реализациях, иначе реализация не будет зачтена!"
   ]
  },
  {
   "cell_type": "code",
   "execution_count": 5,
   "metadata": {},
   "outputs": [],
   "source": [
    "from sklearn.datasets import make_blobs"
   ]
  },
  {
   "cell_type": "code",
   "execution_count": 6,
   "metadata": {},
   "outputs": [],
   "source": [
    "X, y = make_blobs(n_samples=100, n_features=2, centers=3, cluster_std=1, \n",
    "                  center_box=(-10.0, 10.0), shuffle=False, random_state=1234)"
   ]
  },
  {
   "cell_type": "code",
   "execution_count": 7,
   "metadata": {},
   "outputs": [
    {
     "data": {
      "text/plain": [
       "<matplotlib.collections.PathCollection at 0x7f3e3e64fb38>"
      ]
     },
     "execution_count": 7,
     "metadata": {},
     "output_type": "execute_result"
    },
    {
     "data": {
      "image/png": "[encoded data removed]",
      "text/plain": [
       "<Figure size 432x288 with 1 Axes>"
      ]
     },
     "metadata": {
      "needs_background": "light"
     },
     "output_type": "display_data"
    }
   ],
   "source": [
    "plt.scatter(X[:,0], X[:, 1], c=y)"
   ]
  },
  {
   "cell_type": "markdown",
   "metadata": {},
   "source": [
    "Проверьте Вашу имплементацию на простых данных (без этого пункта ДЗ не считается выполненным).   \n",
    "КОММЕНТАРИИ НЕ СТИРАТЬ!"
   ]
  },
  {
   "cell_type": "code",
   "execution_count": 8,
   "metadata": {},
   "outputs": [
    {
     "name": "stdout",
     "output_type": "stream",
     "text": [
      "Loss: 0.0, Iterations: 4.\n"
     ]
    },
    {
     "data": {
      "image/png": "[encoded data removed]",
      "text/plain": [
       "<Figure size 576x504 with 1 Axes>"
      ]
     },
     "metadata": {
      "needs_background": "light"
     },
     "output_type": "display_data"
    }
   ],
   "source": [
    "## Работоспособность MyKmeans\n",
    "\n",
    "model = MyKmeans(k=3, epsilon=1e-3, max_iter=1e4, init='random')\n",
    "model.fit(X)\n",
    "\n",
    "print('Loss: {}, Iterations: {}.'.format(model.loss, model.iteration))\n",
    "\n",
    "y = model.predict(X)\n",
    "\n",
    "plt.figure(figsize=(8, 7))\n",
    "plt.scatter(X[:, 0], X[:, 1], c=y)\n",
    "plt.scatter(model.centroids[:, 0], model.centroids[:, 1], c='r')\n",
    "plt.show()"
   ]
  },
  {
   "cell_type": "code",
   "execution_count": 9,
   "metadata": {},
   "outputs": [
    {
     "name": "stdout",
     "output_type": "stream",
     "text": [
      "Loss: 0.0, Iterations: 2.\n"
     ]
    },
    {
     "data": {
      "image/png": "[encoded data removed]",
      "text/plain": [
       "<Figure size 576x504 with 1 Axes>"
      ]
     },
     "metadata": {
      "needs_background": "light"
     },
     "output_type": "display_data"
    }
   ],
   "source": [
    "## Работоспособность MyKmeans++\n",
    "\n",
    "model = MyKmeans(k=3, epsilon=1e-2, max_iter=1e4, init='k-means++')\n",
    "model.fit(X)\n",
    "\n",
    "print('Loss: {}, Iterations: {}.'.format(model.loss, model.iteration))\n",
    "\n",
    "y = model.predict(X)\n",
    "plt.figure(figsize=(8, 7))\n",
    "plt.scatter(X[:, 0], X[:, 1], c=y)\n",
    "plt.scatter(model.centroids[:, 0], model.centroids[:, 1], c='r')\n",
    "plt.show()"
   ]
  },
  {
   "cell_type": "code",
   "execution_count": 10,
   "metadata": {},
   "outputs": [
    {
     "name": "stdout",
     "output_type": "stream",
     "text": [
      "Loss: 0.4073341313471653, Iterations: 10000.\n"
     ]
    },
    {
     "data": {
      "image/png": "[encoded data removed]",
      "text/plain": [
       "<Figure size 576x504 with 1 Axes>"
      ]
     },
     "metadata": {
      "needs_background": "light"
     },
     "output_type": "display_data"
    }
   ],
   "source": [
    "## Работоспособность MyKmeans с MiniBatchMyKmeans\n",
    "\n",
    "model = MiniBatchMyKmeans(k=3, epsilon=1e-2, max_iter=1e4,\n",
    "                        init='random', batch_size=62)\n",
    "model.fit(X)\n",
    "\n",
    "print('Loss: {}, Iterations: {}.'.format(model.loss, model.iteration))\n",
    "\n",
    "y = model.predict(X)\n",
    "plt.figure(figsize=(8, 7))\n",
    "plt.scatter(X[:, 0], X[:, 1], c=y)\n",
    "plt.scatter(model.centroids[:, 0], model.centroids[:, 1], c='r')\n",
    "plt.show()"
   ]
  },
  {
   "cell_type": "code",
   "execution_count": 11,
   "metadata": {},
   "outputs": [
    {
     "name": "stdout",
     "output_type": "stream",
     "text": [
      "Loss: 0.22815954798558574, Iterations: 10000.\n"
     ]
    },
    {
     "data": {
      "image/png": "[encoded data removed]",
      "text/plain": [
       "<Figure size 576x504 with 1 Axes>"
      ]
     },
     "metadata": {
      "needs_background": "light"
     },
     "output_type": "display_data"
    }
   ],
   "source": [
    "## Работоспособность MyKmeans++ с MiniBatchMyKmeans\n",
    "\n",
    "model = MiniBatchMyKmeans(k=3, epsilon=1e-2, max_iter=1e4,\n",
    "                        init='k-means++', batch_size=64)\n",
    "model.fit(X)\n",
    "\n",
    "print('Loss: {}, Iterations: {}.'.format(model.loss, model.iteration))\n",
    "\n",
    "y = model.predict(X)\n",
    "\n",
    "plt.figure(figsize=(8, 7))\n",
    "plt.scatter(X[:, 0], X[:, 1], c=y)\n",
    "plt.scatter(model.centroids[:, 0], model.centroids[:, 1], c='r')\n",
    "plt.show()"
   ]
  },
  {
   "cell_type": "code",
   "execution_count": 12,
   "metadata": {},
   "outputs": [],
   "source": [
    "from sklearn.cluster import KMeans"
   ]
  },
  {
   "cell_type": "code",
   "execution_count": 13,
   "metadata": {},
   "outputs": [],
   "source": [
    "## Время выполнения алгоритма Kmeans из sklearn\n",
    "model = KMeans(n_clusters=3, init='random', max_iter=1e3)"
   ]
  },
  {
   "cell_type": "code",
   "execution_count": 14,
   "metadata": {},
   "outputs": [
    {
     "name": "stdout",
     "output_type": "stream",
     "text": [
      "22 ms ± 1.93 ms per loop (mean ± std. dev. of 7 runs, 10 loops each)\n"
     ]
    }
   ],
   "source": [
    "%%timeit\n",
    "model.fit(X)"
   ]
  },
  {
   "cell_type": "code",
   "execution_count": 15,
   "metadata": {},
   "outputs": [],
   "source": [
    "## Время выполнения алгоритма MyKmeans\n",
    "\n",
    "model = MyKmeans(k=3, epsilon=1e-1, max_iter=1e4, init='random')"
   ]
  },
  {
   "cell_type": "code",
   "execution_count": 16,
   "metadata": {},
   "outputs": [
    {
     "name": "stdout",
     "output_type": "stream",
     "text": [
      "199 µs ± 6.53 µs per loop (mean ± std. dev. of 7 runs, 1000 loops each)\n"
     ]
    }
   ],
   "source": [
    "%%timeit\n",
    "model.fit(X)"
   ]
  },
  {
   "cell_type": "code",
   "execution_count": 17,
   "metadata": {},
   "outputs": [],
   "source": [
    "## Время выполнения алгоритма MyKmeans++\n",
    "model = MyKmeans(k=3, epsilon=1e-1, max_iter=1e4, init='k-means++')"
   ]
  },
  {
   "cell_type": "code",
   "execution_count": 18,
   "metadata": {},
   "outputs": [
    {
     "name": "stdout",
     "output_type": "stream",
     "text": [
      "743 µs ± 46.6 µs per loop (mean ± std. dev. of 7 runs, 1000 loops each)\n"
     ]
    }
   ],
   "source": [
    "%%timeit\n",
    "model.fit(X)"
   ]
  },
  {
   "cell_type": "code",
   "execution_count": 19,
   "metadata": {},
   "outputs": [],
   "source": [
    "## Время выполнения алгоритма MyKmeans с MiniBatchMyKmeans\n",
    "model = MiniBatchMyKmeans(k=3, epsilon=1e-1, max_iter=1e4, init='random')"
   ]
  },
  {
   "cell_type": "code",
   "execution_count": 20,
   "metadata": {},
   "outputs": [
    {
     "name": "stdout",
     "output_type": "stream",
     "text": [
      "341 µs ± 42.8 µs per loop (mean ± std. dev. of 7 runs, 1 loop each)\n"
     ]
    }
   ],
   "source": [
    "%%timeit\n",
    "model.fit(X)"
   ]
  },
  {
   "cell_type": "code",
   "execution_count": 21,
   "metadata": {},
   "outputs": [],
   "source": [
    "## Время выполнения алгоритма  MyKmeans++ с MiniBatchMyKmeans\n",
    "model = MiniBatchMyKmeans(k=3, epsilon=1e-1, max_iter=1e4, init='k-means++')"
   ]
  },
  {
   "cell_type": "code",
   "execution_count": 22,
   "metadata": {},
   "outputs": [
    {
     "name": "stdout",
     "output_type": "stream",
     "text": [
      "1.07 ms ± 81.6 µs per loop (mean ± std. dev. of 7 runs, 1 loop each)\n"
     ]
    }
   ],
   "source": [
    "%%timeit\n",
    "model.fit(X)"
   ]
  },
  {
   "cell_type": "code",
   "execution_count": 23,
   "metadata": {},
   "outputs": [],
   "source": [
    "# Функция вызова настройки модели\n",
    "def fit_model(model, X):\n",
    "    return model.fit(X)"
   ]
  },
  {
   "cell_type": "code",
   "execution_count": 24,
   "metadata": {},
   "outputs": [
    {
     "data": {
      "image/png": "[encoded data removed]",
      "text/plain": [
       "<Figure size 1080x720 with 1 Axes>"
      ]
     },
     "metadata": {
      "needs_background": "light"
     },
     "output_type": "display_data"
    }
   ],
   "source": [
    "# Массив из размеров данных\n",
    "sample_sizes = np.linspace(1e2, 1e4, 10, dtype=int)\n",
    "\n",
    "# Модели для сравнения\n",
    "model_names = ['sklearn', 'k-means', 'k-means++', 'MiniBatch', 'MiniBatch++']\n",
    "\n",
    "# Количество кластеров и кол-во запусков на одних данных\n",
    "n_clusters = 3\n",
    "launch_times = 20\n",
    "\n",
    "# Словарь из моделей\n",
    "models = dict()\n",
    "models['sklearn'] = KMeans(n_clusters=n_clusters)\n",
    "models['KMeans'] = MyKmeans(k=n_clusters, init='k-means++')\n",
    "models['KMeans++'] = MyKmeans(k=n_clusters, init='random')\n",
    "models['MiniBatch'] = MiniBatchMyKmeans(k=n_clusters, init='k-means++')\n",
    "models['MiniBatch++'] = MiniBatchMyKmeans(k=n_clusters, init='random')\n",
    "\n",
    "# Словарь времени тренировки каждой модели (пустой)\n",
    "time = dict()\n",
    "for model in models:\n",
    "    time[model] = list()\n",
    "\n",
    "for n_samples in sample_sizes:\n",
    "\n",
    "    # Генерация данных\n",
    "    X, y = make_blobs(n_samples=n_samples, n_features=4, centers=3)\n",
    "\n",
    "    # Вызов таймера для каждой модели\n",
    "    for model in models:\n",
    "        # Создание объекта класса Timer, которыей измеряет конкретную модель\n",
    "        t = timeit.Timer(functools.partial(fit_model, models[model], X))\n",
    "\n",
    "        # Запуск таймера и добавление результата в лист\n",
    "        time[model].append(t.timeit(launch_times))\n",
    "\n",
    "plt.figure(figsize=(15, 10))\n",
    "\n",
    "for model in models:\n",
    "    plt.plot(sample_sizes, time[model], label=model)\n",
    "\n",
    "plt.xlabel('Sample size')\n",
    "plt.ylabel('Seconds')\n",
    "plt.legend()\n",
    "plt.show()"
   ]
  },
  {
   "cell_type": "markdown",
   "metadata": {},
   "source": [
    "# Применение K-means на реальных данных"
   ]
  },
  {
   "cell_type": "markdown",
   "metadata": {},
   "source": [
    "Загрузите [данные](https://github.com/brenden17/sklearnlab/blob/master/facebook/snsdata.csv) в которых содержится описание интересов профилей учеников старшей школы США.  (без этого пункта задание не считается выполненным).   \n",
    "ВНИМАНИЕ! Проверка должна быть осуществлена на всех реализациях, иначе реализация не будет зачтена!"
   ]
  },
  {
   "cell_type": "code",
   "execution_count": 25,
   "metadata": {},
   "outputs": [],
   "source": [
    "from sklearn.preprocessing import StandardScaler"
   ]
  },
  {
   "cell_type": "code",
   "execution_count": 26,
   "metadata": {},
   "outputs": [
    {
     "data": {
      "text/html": [
       "<div>\n",
       "<style scoped>\n",
       "    .dataframe tbody tr th:only-of-type {\n",
       "        vertical-align: middle;\n",
       "    }\n",
       "\n",
       "    .dataframe tbody tr th {\n",
       "        vertical-align: top;\n",
       "    }\n",
       "\n",
       "    .dataframe thead th {\n",
       "        text-align: right;\n",
       "    }\n",
       "</style>\n",
       "<table border=\"1\" class=\"dataframe\">\n",
       "  <thead>\n",
       "    <tr style=\"text-align: right;\">\n",
       "      <th></th>\n",
       "      <th>gradyear</th>\n",
       "      <th>gender</th>\n",
       "      <th>age</th>\n",
       "      <th>friends</th>\n",
       "      <th>basketball</th>\n",
       "      <th>football</th>\n",
       "      <th>soccer</th>\n",
       "      <th>softball</th>\n",
       "      <th>volleyball</th>\n",
       "      <th>swimming</th>\n",
       "      <th>...</th>\n",
       "      <th>blonde</th>\n",
       "      <th>mall</th>\n",
       "      <th>shopping</th>\n",
       "      <th>clothes</th>\n",
       "      <th>hollister</th>\n",
       "      <th>abercrombie</th>\n",
       "      <th>die</th>\n",
       "      <th>death</th>\n",
       "      <th>drunk</th>\n",
       "      <th>drugs</th>\n",
       "    </tr>\n",
       "  </thead>\n",
       "  <tbody>\n",
       "    <tr>\n",
       "      <th>0</th>\n",
       "      <td>2006</td>\n",
       "      <td>M</td>\n",
       "      <td>18.982</td>\n",
       "      <td>7</td>\n",
       "      <td>0</td>\n",
       "      <td>0</td>\n",
       "      <td>0</td>\n",
       "      <td>0</td>\n",
       "      <td>0</td>\n",
       "      <td>0</td>\n",
       "      <td>...</td>\n",
       "      <td>0</td>\n",
       "      <td>0</td>\n",
       "      <td>0</td>\n",
       "      <td>0</td>\n",
       "      <td>0</td>\n",
       "      <td>0</td>\n",
       "      <td>0</td>\n",
       "      <td>0</td>\n",
       "      <td>0</td>\n",
       "      <td>0</td>\n",
       "    </tr>\n",
       "    <tr>\n",
       "      <th>1</th>\n",
       "      <td>2006</td>\n",
       "      <td>F</td>\n",
       "      <td>18.801</td>\n",
       "      <td>0</td>\n",
       "      <td>0</td>\n",
       "      <td>1</td>\n",
       "      <td>0</td>\n",
       "      <td>0</td>\n",
       "      <td>0</td>\n",
       "      <td>0</td>\n",
       "      <td>...</td>\n",
       "      <td>0</td>\n",
       "      <td>1</td>\n",
       "      <td>0</td>\n",
       "      <td>0</td>\n",
       "      <td>0</td>\n",
       "      <td>0</td>\n",
       "      <td>0</td>\n",
       "      <td>0</td>\n",
       "      <td>0</td>\n",
       "      <td>0</td>\n",
       "    </tr>\n",
       "    <tr>\n",
       "      <th>2</th>\n",
       "      <td>2006</td>\n",
       "      <td>M</td>\n",
       "      <td>18.335</td>\n",
       "      <td>69</td>\n",
       "      <td>0</td>\n",
       "      <td>1</td>\n",
       "      <td>0</td>\n",
       "      <td>0</td>\n",
       "      <td>0</td>\n",
       "      <td>0</td>\n",
       "      <td>...</td>\n",
       "      <td>0</td>\n",
       "      <td>0</td>\n",
       "      <td>0</td>\n",
       "      <td>0</td>\n",
       "      <td>0</td>\n",
       "      <td>0</td>\n",
       "      <td>0</td>\n",
       "      <td>1</td>\n",
       "      <td>0</td>\n",
       "      <td>0</td>\n",
       "    </tr>\n",
       "    <tr>\n",
       "      <th>3</th>\n",
       "      <td>2006</td>\n",
       "      <td>F</td>\n",
       "      <td>18.875</td>\n",
       "      <td>0</td>\n",
       "      <td>0</td>\n",
       "      <td>0</td>\n",
       "      <td>0</td>\n",
       "      <td>0</td>\n",
       "      <td>0</td>\n",
       "      <td>0</td>\n",
       "      <td>...</td>\n",
       "      <td>0</td>\n",
       "      <td>0</td>\n",
       "      <td>0</td>\n",
       "      <td>0</td>\n",
       "      <td>0</td>\n",
       "      <td>0</td>\n",
       "      <td>0</td>\n",
       "      <td>0</td>\n",
       "      <td>0</td>\n",
       "      <td>0</td>\n",
       "    </tr>\n",
       "    <tr>\n",
       "      <th>4</th>\n",
       "      <td>2006</td>\n",
       "      <td>NaN</td>\n",
       "      <td>18.995</td>\n",
       "      <td>10</td>\n",
       "      <td>0</td>\n",
       "      <td>0</td>\n",
       "      <td>0</td>\n",
       "      <td>0</td>\n",
       "      <td>0</td>\n",
       "      <td>0</td>\n",
       "      <td>...</td>\n",
       "      <td>0</td>\n",
       "      <td>0</td>\n",
       "      <td>2</td>\n",
       "      <td>0</td>\n",
       "      <td>0</td>\n",
       "      <td>0</td>\n",
       "      <td>0</td>\n",
       "      <td>0</td>\n",
       "      <td>1</td>\n",
       "      <td>1</td>\n",
       "    </tr>\n",
       "  </tbody>\n",
       "</table>\n",
       "<p>5 rows × 40 columns</p>\n",
       "</div>"
      ],
      "text/plain": [
       "   gradyear gender     age  friends  basketball  football  soccer  softball  \\\n",
       "0      2006      M  18.982        7           0         0       0         0   \n",
       "1      2006      F  18.801        0           0         1       0         0   \n",
       "2      2006      M  18.335       69           0         1       0         0   \n",
       "3      2006      F  18.875        0           0         0       0         0   \n",
       "4      2006    NaN  18.995       10           0         0       0         0   \n",
       "\n",
       "   volleyball  swimming  ...    blonde  mall  shopping  clothes  hollister  \\\n",
       "0           0         0  ...         0     0         0        0          0   \n",
       "1           0         0  ...         0     1         0        0          0   \n",
       "2           0         0  ...         0     0         0        0          0   \n",
       "3           0         0  ...         0     0         0        0          0   \n",
       "4           0         0  ...         0     0         2        0          0   \n",
       "\n",
       "   abercrombie  die  death  drunk  drugs  \n",
       "0            0    0      0      0      0  \n",
       "1            0    0      0      0      0  \n",
       "2            0    0      1      0      0  \n",
       "3            0    0      0      0      0  \n",
       "4            0    0      0      1      1  \n",
       "\n",
       "[5 rows x 40 columns]"
      ]
     },
     "execution_count": 26,
     "metadata": {},
     "output_type": "execute_result"
    }
   ],
   "source": [
    "df_sns = pd.read_csv('snsdata.csv', sep=',')\n",
    "df_sns.head()"
   ]
  },
  {
   "cell_type": "markdown",
   "metadata": {},
   "source": [
    "Данные устроены так: \n",
    "* Год выпуска\n",
    "* Пол\n",
    "* Возраст\n",
    "* Количество друзей\n",
    "* 36 ключевых слов, которые встречаются в профилe facebook (интересы, сообщества, встречи)"
   ]
  },
  {
   "cell_type": "markdown",
   "metadata": {},
   "source": [
    "* Удалите все признаки кроме 36 ключевых слов.\n",
    "* Нормализуйте данные - из каждого столбца вычтите его среднее значение и поделите на стандартное отклонение.\n",
    "* Используйте метод k-means чтобы выделить 9 кластеров\n",
    "* Попробуйте проинтерпретировать каждый кластер проанализировав полученные центройды (Некоторые кластеры могут быть очень большие и очень маленькие - плохо интерпретируются)   \n",
    "КОММЕНТАРИИ НЕ СТИРАТЬ!"
   ]
  },
  {
   "cell_type": "code",
   "execution_count": 27,
   "metadata": {},
   "outputs": [
    {
     "data": {
      "text/html": [
       "<div>\n",
       "<style scoped>\n",
       "    .dataframe tbody tr th:only-of-type {\n",
       "        vertical-align: middle;\n",
       "    }\n",
       "\n",
       "    .dataframe tbody tr th {\n",
       "        vertical-align: top;\n",
       "    }\n",
       "\n",
       "    .dataframe thead th {\n",
       "        text-align: right;\n",
       "    }\n",
       "</style>\n",
       "<table border=\"1\" class=\"dataframe\">\n",
       "  <thead>\n",
       "    <tr style=\"text-align: right;\">\n",
       "      <th></th>\n",
       "      <th>basketball</th>\n",
       "      <th>football</th>\n",
       "      <th>soccer</th>\n",
       "      <th>softball</th>\n",
       "      <th>volleyball</th>\n",
       "      <th>swimming</th>\n",
       "      <th>cheerleading</th>\n",
       "      <th>baseball</th>\n",
       "      <th>tennis</th>\n",
       "      <th>sports</th>\n",
       "      <th>...</th>\n",
       "      <th>blonde</th>\n",
       "      <th>mall</th>\n",
       "      <th>shopping</th>\n",
       "      <th>clothes</th>\n",
       "      <th>hollister</th>\n",
       "      <th>abercrombie</th>\n",
       "      <th>die</th>\n",
       "      <th>death</th>\n",
       "      <th>drunk</th>\n",
       "      <th>drugs</th>\n",
       "    </tr>\n",
       "  </thead>\n",
       "  <tbody>\n",
       "    <tr>\n",
       "      <th>0</th>\n",
       "      <td>0</td>\n",
       "      <td>0</td>\n",
       "      <td>0</td>\n",
       "      <td>0</td>\n",
       "      <td>0</td>\n",
       "      <td>0</td>\n",
       "      <td>0</td>\n",
       "      <td>0</td>\n",
       "      <td>0</td>\n",
       "      <td>0</td>\n",
       "      <td>...</td>\n",
       "      <td>0</td>\n",
       "      <td>0</td>\n",
       "      <td>0</td>\n",
       "      <td>0</td>\n",
       "      <td>0</td>\n",
       "      <td>0</td>\n",
       "      <td>0</td>\n",
       "      <td>0</td>\n",
       "      <td>0</td>\n",
       "      <td>0</td>\n",
       "    </tr>\n",
       "    <tr>\n",
       "      <th>1</th>\n",
       "      <td>0</td>\n",
       "      <td>1</td>\n",
       "      <td>0</td>\n",
       "      <td>0</td>\n",
       "      <td>0</td>\n",
       "      <td>0</td>\n",
       "      <td>0</td>\n",
       "      <td>0</td>\n",
       "      <td>0</td>\n",
       "      <td>0</td>\n",
       "      <td>...</td>\n",
       "      <td>0</td>\n",
       "      <td>1</td>\n",
       "      <td>0</td>\n",
       "      <td>0</td>\n",
       "      <td>0</td>\n",
       "      <td>0</td>\n",
       "      <td>0</td>\n",
       "      <td>0</td>\n",
       "      <td>0</td>\n",
       "      <td>0</td>\n",
       "    </tr>\n",
       "    <tr>\n",
       "      <th>2</th>\n",
       "      <td>0</td>\n",
       "      <td>1</td>\n",
       "      <td>0</td>\n",
       "      <td>0</td>\n",
       "      <td>0</td>\n",
       "      <td>0</td>\n",
       "      <td>0</td>\n",
       "      <td>0</td>\n",
       "      <td>0</td>\n",
       "      <td>0</td>\n",
       "      <td>...</td>\n",
       "      <td>0</td>\n",
       "      <td>0</td>\n",
       "      <td>0</td>\n",
       "      <td>0</td>\n",
       "      <td>0</td>\n",
       "      <td>0</td>\n",
       "      <td>0</td>\n",
       "      <td>1</td>\n",
       "      <td>0</td>\n",
       "      <td>0</td>\n",
       "    </tr>\n",
       "    <tr>\n",
       "      <th>3</th>\n",
       "      <td>0</td>\n",
       "      <td>0</td>\n",
       "      <td>0</td>\n",
       "      <td>0</td>\n",
       "      <td>0</td>\n",
       "      <td>0</td>\n",
       "      <td>0</td>\n",
       "      <td>0</td>\n",
       "      <td>0</td>\n",
       "      <td>0</td>\n",
       "      <td>...</td>\n",
       "      <td>0</td>\n",
       "      <td>0</td>\n",
       "      <td>0</td>\n",
       "      <td>0</td>\n",
       "      <td>0</td>\n",
       "      <td>0</td>\n",
       "      <td>0</td>\n",
       "      <td>0</td>\n",
       "      <td>0</td>\n",
       "      <td>0</td>\n",
       "    </tr>\n",
       "    <tr>\n",
       "      <th>4</th>\n",
       "      <td>0</td>\n",
       "      <td>0</td>\n",
       "      <td>0</td>\n",
       "      <td>0</td>\n",
       "      <td>0</td>\n",
       "      <td>0</td>\n",
       "      <td>0</td>\n",
       "      <td>0</td>\n",
       "      <td>0</td>\n",
       "      <td>0</td>\n",
       "      <td>...</td>\n",
       "      <td>0</td>\n",
       "      <td>0</td>\n",
       "      <td>2</td>\n",
       "      <td>0</td>\n",
       "      <td>0</td>\n",
       "      <td>0</td>\n",
       "      <td>0</td>\n",
       "      <td>0</td>\n",
       "      <td>1</td>\n",
       "      <td>1</td>\n",
       "    </tr>\n",
       "  </tbody>\n",
       "</table>\n",
       "<p>5 rows × 36 columns</p>\n",
       "</div>"
      ],
      "text/plain": [
       "   basketball  football  soccer  softball  volleyball  swimming  cheerleading  \\\n",
       "0           0         0       0         0           0         0             0   \n",
       "1           0         1       0         0           0         0             0   \n",
       "2           0         1       0         0           0         0             0   \n",
       "3           0         0       0         0           0         0             0   \n",
       "4           0         0       0         0           0         0             0   \n",
       "\n",
       "   baseball  tennis  sports  ...    blonde  mall  shopping  clothes  \\\n",
       "0         0       0       0  ...         0     0         0        0   \n",
       "1         0       0       0  ...         0     1         0        0   \n",
       "2         0       0       0  ...         0     0         0        0   \n",
       "3         0       0       0  ...         0     0         0        0   \n",
       "4         0       0       0  ...         0     0         2        0   \n",
       "\n",
       "   hollister  abercrombie  die  death  drunk  drugs  \n",
       "0          0            0    0      0      0      0  \n",
       "1          0            0    0      0      0      0  \n",
       "2          0            0    0      1      0      0  \n",
       "3          0            0    0      0      0      0  \n",
       "4          0            0    0      0      1      1  \n",
       "\n",
       "[5 rows x 36 columns]"
      ]
     },
     "execution_count": 27,
     "metadata": {},
     "output_type": "execute_result"
    }
   ],
   "source": [
    "df_sns.drop(['gradyear', 'gender', 'age', 'friends'], axis=1, inplace=True)\n",
    "df_sns.head()"
   ]
  },
  {
   "cell_type": "code",
   "execution_count": 28,
   "metadata": {},
   "outputs": [],
   "source": [
    "# Преобразую данные в numpy матрицу\n",
    "features = np.array(list(df_sns))\n",
    "data = df_sns.values.astype(np.float64)\n",
    "\n",
    "X = StandardScaler().fit_transform(data)"
   ]
  },
  {
   "cell_type": "code",
   "execution_count": 29,
   "metadata": {},
   "outputs": [],
   "source": [
    "def Describe_cluster(labels, features, centroids, k=5):\n",
    "    '''\n",
    "    Описание класетров\n",
    "    '''\n",
    "\n",
    "    cluster_features = features[(np.argsort(-centroids, axis=1))[:, :k]]\n",
    "\n",
    "    for i in range(np.unique(labels).size):\n",
    "        cluster_size = labels[labels == i].size\n",
    "        print('Cluster #{} size: {}'.format(i, cluster_size))\n",
    "        print(('Top {} important words: ' +\n",
    "               ', '.join(cluster_features[i]) + '\\n').format(k))"
   ]
  },
  {
   "cell_type": "code",
   "execution_count": 30,
   "metadata": {},
   "outputs": [
    {
     "name": "stdout",
     "output_type": "stream",
     "text": [
      "Loss: 0.008579798267980195, Iterations: 32.\n",
      "\n",
      "Cluster #0 size: 606\n",
      "Top 5 important words: die, death, god, rock, music\n",
      "\n",
      "Cluster #1 size: 3628\n",
      "Top 5 important words: shopping, cute, dress, dance, mall\n",
      "\n",
      "Cluster #2 size: 2425\n",
      "Top 5 important words: basketball, football, baseball, sports, softball\n",
      "\n",
      "Cluster #3 size: 1769\n",
      "Top 5 important words: death, god, music, rock, drunk\n",
      "\n",
      "Cluster #4 size: 508\n",
      "Top 5 important words: bible, jesus, god, church, music\n",
      "\n",
      "Cluster #5 size: 807\n",
      "Top 5 important words: kissed, drugs, hair, sex, drunk\n",
      "\n",
      "Cluster #6 size: 524\n",
      "Top 5 important words: marching, band, music, rock, football\n",
      "\n",
      "Cluster #7 size: 18879\n",
      "Top 5 important words: blonde, tennis, jesus, soccer, swimming\n",
      "\n",
      "Cluster #8 size: 854\n",
      "Top 5 important words: hollister, abercrombie, shopping, mall, clothes\n",
      "\n"
     ]
    }
   ],
   "source": [
    "## MyKmeans\n",
    "\n",
    "model = MyKmeans(k=9, epsilon=1e-2, max_iter=1e5, init='random')\n",
    "model.fit(X)\n",
    "labels = model.predict(X)\n",
    "\n",
    "print('Loss: {}, Iterations: {}.\\n'.format(model.loss, model.iteration))\n",
    "Describe_cluster(labels, features, model.centroids)"
   ]
  },
  {
   "cell_type": "code",
   "execution_count": 31,
   "metadata": {},
   "outputs": [
    {
     "name": "stdout",
     "output_type": "stream",
     "text": [
      "2.13 s ± 633 ms per loop (mean ± std. dev. of 7 runs, 1 loop each)\n"
     ]
    }
   ],
   "source": [
    "%%timeit\n",
    "\n",
    "model = MyKmeans(k=9, epsilon=1e-2, max_iter=1e5, init='random')\n",
    "model.fit(X)"
   ]
  },
  {
   "cell_type": "code",
   "execution_count": 32,
   "metadata": {},
   "outputs": [
    {
     "name": "stdout",
     "output_type": "stream",
     "text": [
      "Loss: 0.0032529318403151813, Iterations: 38.\n",
      "\n",
      "Cluster #0 size: 890\n",
      "Top 5 important words: kissed, hair, sex, clothes, rock\n",
      "\n",
      "Cluster #1 size: 20870\n",
      "Top 5 important words: blonde, tennis, death, jesus, sexy\n",
      "\n",
      "Cluster #2 size: 2753\n",
      "Top 5 important words: football, basketball, baseball, sports, softball\n",
      "\n",
      "Cluster #3 size: 668\n",
      "Top 5 important words: drunk, drugs, hair, die, death\n",
      "\n",
      "Cluster #4 size: 415\n",
      "Top 5 important words: bible, jesus, god, church, death\n",
      "\n",
      "Cluster #5 size: 381\n",
      "Top 5 important words: volleyball, softball, basketball, shopping, sports\n",
      "\n",
      "Cluster #6 size: 37\n",
      "Top 5 important words: sex, hair, kissed, blonde, die\n",
      "\n",
      "Cluster #7 size: 779\n",
      "Top 5 important words: marching, band, music, rock, swimming\n",
      "\n",
      "Cluster #8 size: 3207\n",
      "Top 5 important words: shopping, hollister, abercrombie, mall, cute\n",
      "\n"
     ]
    }
   ],
   "source": [
    "## MyKmeans++\n",
    "\n",
    "model = MyKmeans(k=9, epsilon=1e-2, max_iter=1e5, init='k-means++')\n",
    "model.fit(X)\n",
    "labels = model.predict(X)\n",
    "\n",
    "print('Loss: {}, Iterations: {}.\\n'.format(model.loss, model.iteration))\n",
    "Describe_cluster(labels, features, model.centroids)"
   ]
  },
  {
   "cell_type": "code",
   "execution_count": 33,
   "metadata": {},
   "outputs": [
    {
     "name": "stdout",
     "output_type": "stream",
     "text": [
      "1.99 s ± 542 ms per loop (mean ± std. dev. of 7 runs, 1 loop each)\n"
     ]
    }
   ],
   "source": [
    "%%timeit\n",
    "\n",
    "model = MyKmeans(k=9, epsilon=1e-2, max_iter=1e5, init='k-means++')\n",
    "model.fit(X)"
   ]
  },
  {
   "cell_type": "code",
   "execution_count": 34,
   "metadata": {},
   "outputs": [
    {
     "name": "stdout",
     "output_type": "stream",
     "text": [
      "Loss: 5.700699682277857, Iterations: 1000.\n",
      "\n",
      "Cluster #0 size: 889\n",
      "Top 5 important words: kissed, drugs, hair, sex, drunk\n",
      "\n",
      "Cluster #1 size: 596\n",
      "Top 5 important words: marching, band, music, death, god\n",
      "\n",
      "Cluster #2 size: 2315\n",
      "Top 5 important words: basketball, baseball, sports, football, volleyball\n",
      "\n",
      "Cluster #3 size: 4422\n",
      "Top 5 important words: shopping, cute, mall, hot, clothes\n",
      "\n",
      "Cluster #4 size: 540\n",
      "Top 5 important words: dress, shopping, cute, mall, clothes\n",
      "\n",
      "Cluster #5 size: 480\n",
      "Top 5 important words: bible, god, jesus, church, death\n",
      "\n",
      "Cluster #6 size: 19056\n",
      "Top 5 important words: blonde, tennis, bible, soccer, jesus\n",
      "\n",
      "Cluster #7 size: 840\n",
      "Top 5 important words: hollister, abercrombie, shopping, hot, hair\n",
      "\n",
      "Cluster #8 size: 862\n",
      "Top 5 important words: dance, church, music, mall, rock\n",
      "\n"
     ]
    }
   ],
   "source": [
    "## MyKmeans с MiniBatchMyKmeans\n",
    "\n",
    "model = MiniBatchMyKmeans(k=9, epsilon=1e-2, max_iter=1e3,\n",
    "                        init='random', batch_size=8000)\n",
    "model.fit(X)\n",
    "labels = model.predict(X)\n",
    "\n",
    "print('Loss: {}, Iterations: {}.\\n'.format(model.loss, model.iteration))\n",
    "Describe_cluster(labels, features, model.centroids)"
   ]
  },
  {
   "cell_type": "code",
   "execution_count": 35,
   "metadata": {},
   "outputs": [
    {
     "name": "stdout",
     "output_type": "stream",
     "text": [
      "43.5 s ± 1.15 s per loop (mean ± std. dev. of 7 runs, 1 loop each)\n"
     ]
    }
   ],
   "source": [
    "%%timeit\n",
    "\n",
    "model = MiniBatchMyKmeans(k=9, epsilon=1e-2, max_iter=1e3,\n",
    "                        init='random', batch_size=8000)\n",
    "model.fit(X)"
   ]
  },
  {
   "cell_type": "code",
   "execution_count": 36,
   "metadata": {},
   "outputs": [
    {
     "name": "stdout",
     "output_type": "stream",
     "text": [
      "Loss: 3.6061097180859187, Iterations: 1000.\n",
      "\n",
      "Cluster #0 size: 19111\n",
      "Top 5 important words: blonde, death, drunk, bible, sexy\n",
      "\n",
      "Cluster #1 size: 2368\n",
      "Top 5 important words: football, basketball, sports, tennis, baseball\n",
      "\n",
      "Cluster #2 size: 834\n",
      "Top 5 important words: hollister, abercrombie, shopping, clothes, mall\n",
      "\n",
      "Cluster #3 size: 873\n",
      "Top 5 important words: softball, volleyball, basketball, sports, shopping\n",
      "\n",
      "Cluster #4 size: 933\n",
      "Top 5 important words: kissed, drugs, sex, hair, die\n",
      "\n",
      "Cluster #5 size: 1\n",
      "Top 5 important words: bible, jesus, god, death, clothes\n",
      "\n",
      "Cluster #6 size: 4707\n",
      "Top 5 important words: shopping, cute, dance, dress, church\n",
      "\n",
      "Cluster #7 size: 487\n",
      "Top 5 important words: baseball, football, rock, basketball, sports\n",
      "\n",
      "Cluster #8 size: 686\n",
      "Top 5 important words: soccer, shopping, sports, hot, church\n",
      "\n"
     ]
    }
   ],
   "source": [
    "## MyKmeans++ с MiniBatchMyKmeans\n",
    "\n",
    "model = MiniBatchMyKmeans(k=9, epsilon=1e-2, max_iter=1e3,\n",
    "                        init='k-means++', batch_size=8000)\n",
    "model.fit(X)\n",
    "\n",
    "labels = model.predict(X)\n",
    "\n",
    "print('Loss: {}, Iterations: {}.\\n'.format(model.loss, model.iteration))\n",
    "\n",
    "Describe_cluster(labels, features, model.centroids)"
   ]
  },
  {
   "cell_type": "code",
   "execution_count": 37,
   "metadata": {},
   "outputs": [
    {
     "name": "stdout",
     "output_type": "stream",
     "text": [
      "43.2 s ± 174 ms per loop (mean ± std. dev. of 7 runs, 1 loop each)\n"
     ]
    }
   ],
   "source": [
    "%%timeit\n",
    "\n",
    "model = MiniBatchMyKmeans(k=9, epsilon=1e-2, max_iter=1e3,\n",
    "                        init='k-means++', batch_size=8000)\n",
    "model.fit(X)"
   ]
  },
  {
   "cell_type": "markdown",
   "metadata": {},
   "source": [
    "## Вывод\n",
    "\n",
    "KMeans++ ускоряет модель и снижает вероятность найти локальный минимум, при этом не требует большой вычислительной мощности\n",
    "\n",
    "MiniBatch не ускоряет модель, поскльку точность уменьшатеся медленнее, и для достижениия нужно точности требуется больше времени, чем KMeans. Однако даёт возможность работать с большими объёмами данных.\n",
    "\n",
    "Поэтому выбор модели (использование MiniBatch) зависит от объёма данных, усовершенствованную инициализацию центроидов (k-means++) рекомендуется использовать всегода."
   ]
  }
 ],
 "metadata": {
  "anaconda-cloud": {},
  "kernelspec": {
   "display_name": "Python 3",
   "language": "python",
   "name": "python3"
  },
  "language_info": {
   "codemirror_mode": {
    "name": "ipython",
    "version": 3
   },
   "file_extension": ".py",
   "mimetype": "text/x-python",
   "name": "python",
   "nbconvert_exporter": "python",
   "pygments_lexer": "ipython3",
   "version": "3.7.0"
  },
  "nav_menu": {},
  "toc": {
   "navigate_menu": true,
   "number_sections": false,
   "sideBar": true,
   "threshold": 6,
   "toc_cell": false,
   "toc_section_display": "block",
   "toc_window_display": true
  }
 },
 "nbformat": 4,
 "nbformat_minor": 2
}
